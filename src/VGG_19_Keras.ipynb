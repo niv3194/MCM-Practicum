{
  "nbformat": 4,
  "nbformat_minor": 0,
  "metadata": {
    "colab": {
      "name": "VGG-19_Keras.ipynb",
      "version": "0.3.2",
      "provenance": [],
      "collapsed_sections": []
    },
    "kernelspec": {
      "name": "python3",
      "display_name": "Python 3"
    },
    "accelerator": "GPU"
  },
  "cells": [
    {
      "cell_type": "markdown",
      "metadata": {
        "id": "MsehQ9iJBv18",
        "colab_type": "text"
      },
      "source": [
        "**VGG-19 model implemented using Keras**\n",
        "\n",
        "\n",
        "\n"
      ]
    },
    {
      "cell_type": "code",
      "metadata": {
        "id": "Jp24I4Y04x5Q",
        "colab_type": "code",
        "outputId": "ae4b1308-013f-410b-869f-198b71add17b",
        "colab": {
          "base_uri": "https://localhost:8080/",
          "height": 34
        }
      },
      "source": [
        "from keras.applications.inception_v3 import InceptionV3\n",
        "from keras.callbacks import ModelCheckpoint, EarlyStopping\n",
        "from keras.models import Model\n",
        "from keras.layers import Dense, GlobalAveragePooling2D\n",
        "from keras.applications.vgg19 import VGG19\n",
        "from keras.preprocessing import image\n",
        "from keras.applications.vgg19 import preprocess_input\n",
        "from keras.models import Model\n",
        "import numpy as np\n",
        "\n",
        "# Create the base pre-trained model\n",
        "from keras.preprocessing.image import ImageDataGenerator"
      ],
      "execution_count": 1,
      "outputs": [
        {
          "output_type": "stream",
          "text": [
            "Using TensorFlow backend.\n"
          ],
          "name": "stderr"
        }
      ]
    },
    {
      "cell_type": "code",
      "metadata": {
        "id": "vBDZJo6t51i-",
        "colab_type": "code",
        "outputId": "cbd77719-6257-436d-c68f-d8b0e12af5b4",
        "colab": {
          "base_uri": "https://localhost:8080/",
          "height": 292
        }
      },
      "source": [
        "base_model = VGG19(weights='imagenet', include_top=False)\n",
        "batch_size = 32  # batch size is chosen to help keep GPU memory usage low\n",
        "dim = 299  # InceptionV3 is trained on 299x299 images"
      ],
      "execution_count": 2,
      "outputs": [
        {
          "output_type": "stream",
          "text": [
            "WARNING: Logging before flag parsing goes to stderr.\n",
            "W0811 11:18:04.867418 139674429736832 deprecation_wrapper.py:119] From /usr/local/lib/python3.6/dist-packages/keras/backend/tensorflow_backend.py:74: The name tf.get_default_graph is deprecated. Please use tf.compat.v1.get_default_graph instead.\n",
            "\n",
            "W0811 11:18:04.920784 139674429736832 deprecation_wrapper.py:119] From /usr/local/lib/python3.6/dist-packages/keras/backend/tensorflow_backend.py:517: The name tf.placeholder is deprecated. Please use tf.compat.v1.placeholder instead.\n",
            "\n",
            "W0811 11:18:04.929064 139674429736832 deprecation_wrapper.py:119] From /usr/local/lib/python3.6/dist-packages/keras/backend/tensorflow_backend.py:4138: The name tf.random_uniform is deprecated. Please use tf.random.uniform instead.\n",
            "\n",
            "W0811 11:18:04.979176 139674429736832 deprecation_wrapper.py:119] From /usr/local/lib/python3.6/dist-packages/keras/backend/tensorflow_backend.py:3976: The name tf.nn.max_pool is deprecated. Please use tf.nn.max_pool2d instead.\n",
            "\n"
          ],
          "name": "stderr"
        },
        {
          "output_type": "stream",
          "text": [
            "Downloading data from https://github.com/fchollet/deep-learning-models/releases/download/v0.1/vgg19_weights_tf_dim_ordering_tf_kernels_notop.h5\n",
            "80142336/80134624 [==============================] - 3s 0us/step\n"
          ],
          "name": "stdout"
        },
        {
          "output_type": "stream",
          "text": [
            "W0811 11:18:09.604205 139674429736832 deprecation_wrapper.py:119] From /usr/local/lib/python3.6/dist-packages/keras/backend/tensorflow_backend.py:174: The name tf.get_default_session is deprecated. Please use tf.compat.v1.get_default_session instead.\n",
            "\n",
            "W0811 11:18:09.605821 139674429736832 deprecation_wrapper.py:119] From /usr/local/lib/python3.6/dist-packages/keras/backend/tensorflow_backend.py:181: The name tf.ConfigProto is deprecated. Please use tf.compat.v1.ConfigProto instead.\n",
            "\n"
          ],
          "name": "stderr"
        }
      ]
    },
    {
      "cell_type": "code",
      "metadata": {
        "id": "wF2NsFq96Azc",
        "colab_type": "code",
        "colab": {}
      },
      "source": [
        "num_training_img = 1470  # number of training images for 102 dataset\n",
        "# num_training_img = 1190 # number of training images for 17 dataset\n",
        "num_val_img = 350  # number of validation images for 102 dataset\n",
        "# num_val_img = 170 # number of validation images for 17 dataset\n",
        "# Add a global spatial average pooling layer\n",
        "x = base_model.output\n",
        "x = GlobalAveragePooling2D()(x)\n",
        "# Add a fully-connected layer\n",
        "x = Dense(1024, activation='relu')(x)"
      ],
      "execution_count": 0,
      "outputs": []
    },
    {
      "cell_type": "code",
      "metadata": {
        "id": "hDtya2Yh6E0X",
        "colab_type": "code",
        "colab": {}
      },
      "source": [
        "# Select 102 or 17 for whichever model you want to train on.\n",
        "predictions = Dense(7, activation='softmax')(x)\n",
        "# predictions = Dense(17, activation='softmax')(x)"
      ],
      "execution_count": 0,
      "outputs": []
    },
    {
      "cell_type": "code",
      "metadata": {
        "id": "ZbqONrtM6IhC",
        "colab_type": "code",
        "outputId": "98389b67-4b23-4e2d-9b6a-221afd8c9565",
        "colab": {
          "base_uri": "https://localhost:8080/",
          "height": 71
        }
      },
      "source": [
        "model = Model(input=base_model.input, output=predictions)"
      ],
      "execution_count": 5,
      "outputs": [
        {
          "output_type": "stream",
          "text": [
            "/usr/local/lib/python3.6/dist-packages/ipykernel_launcher.py:1: UserWarning: Update your `Model` call to the Keras 2 API: `Model(inputs=Tensor(\"in..., outputs=Tensor(\"de...)`\n",
            "  \"\"\"Entry point for launching an IPython kernel.\n"
          ],
          "name": "stderr"
        }
      ]
    },
    {
      "cell_type": "code",
      "metadata": {
        "id": "nTCGSvYr6LK0",
        "colab_type": "code",
        "colab": {}
      },
      "source": [
        "for layer in base_model.layers:\n",
        "    layer.trainable = False"
      ],
      "execution_count": 0,
      "outputs": []
    },
    {
      "cell_type": "code",
      "metadata": {
        "id": "T4uMAjqb6NxS",
        "colab_type": "code",
        "outputId": "3cdace93-1359-4a41-e9a1-bb57c0acb135",
        "colab": {
          "base_uri": "https://localhost:8080/",
          "height": 71
        }
      },
      "source": [
        "model.compile(optimizer='rmsprop', loss='categorical_crossentropy', metrics=['accuracy'])"
      ],
      "execution_count": 7,
      "outputs": [
        {
          "output_type": "stream",
          "text": [
            "W0811 11:18:36.594140 139674429736832 deprecation_wrapper.py:119] From /usr/local/lib/python3.6/dist-packages/keras/optimizers.py:790: The name tf.train.Optimizer is deprecated. Please use tf.compat.v1.train.Optimizer instead.\n",
            "\n"
          ],
          "name": "stderr"
        }
      ]
    },
    {
      "cell_type": "code",
      "metadata": {
        "id": "7rFvfVpi6QZ1",
        "colab_type": "code",
        "colab": {}
      },
      "source": [
        "train_datagen = ImageDataGenerator(\n",
        "    rescale=1. / 255,  # regularize RGB color values to floats between 0.0 to 1.0\n",
        "    horizontal_flip=True,\n",
        "    fill_mode='constant')  # i"
      ],
      "execution_count": 0,
      "outputs": []
    },
    {
      "cell_type": "code",
      "metadata": {
        "id": "8mxA0Oux6TP7",
        "colab_type": "code",
        "colab": {}
      },
      "source": [
        "test_datagen = ImageDataGenerator(rescale=1. / 255)"
      ],
      "execution_count": 0,
      "outputs": []
    },
    {
      "cell_type": "code",
      "metadata": {
        "id": "PsMtTEzS6WTe",
        "colab_type": "code",
        "outputId": "0f94a0d0-f146-47b1-c96d-fcfcf5f86025",
        "colab": {
          "base_uri": "https://localhost:8080/",
          "height": 122
        }
      },
      "source": [
        "from google.colab import drive\n",
        "import os\n",
        "drive.mount('/content/drive/')\n",
        "os.chdir('/content/drive/My Drive/widerdata/images')"
      ],
      "execution_count": 10,
      "outputs": [
        {
          "output_type": "stream",
          "text": [
            "Go to this URL in a browser: https://accounts.google.com/o/oauth2/auth?client_id=947318989803-6bn6qk8qdgf4n4g3pfee6491hc0brc4i.apps.googleusercontent.com&redirect_uri=urn%3Aietf%3Awg%3Aoauth%3A2.0%3Aoob&scope=email%20https%3A%2F%2Fwww.googleapis.com%2Fauth%2Fdocs.test%20https%3A%2F%2Fwww.googleapis.com%2Fauth%2Fdrive%20https%3A%2F%2Fwww.googleapis.com%2Fauth%2Fdrive.photos.readonly%20https%3A%2F%2Fwww.googleapis.com%2Fauth%2Fpeopleapi.readonly&response_type=code\n",
            "\n",
            "Enter your authorization code:\n",
            "··········\n",
            "Mounted at /content/drive/\n"
          ],
          "name": "stdout"
        }
      ]
    },
    {
      "cell_type": "code",
      "metadata": {
        "id": "3_IUjq1e6ZAH",
        "colab_type": "code",
        "outputId": "7cec5282-db96-4e48-e836-3d2b4798b2bd",
        "colab": {
          "base_uri": "https://localhost:8080/",
          "height": 34
        }
      },
      "source": [
        "train_generator = train_datagen.flow_from_directory(\n",
        "    '/content/drive/My Drive/widerdata/images',  # this is the target directory\n",
        "    target_size=(dim, dim),  # all images will be resized to dim * dim\n",
        "    batch_size=batch_size,\n",
        "    class_mode='categorical')"
      ],
      "execution_count": 11,
      "outputs": [
        {
          "output_type": "stream",
          "text": [
            "Found 1470 images belonging to 7 classes.\n"
          ],
          "name": "stdout"
        }
      ]
    },
    {
      "cell_type": "code",
      "metadata": {
        "id": "jOza4oLs6b1P",
        "colab_type": "code",
        "outputId": "3985f5a5-562c-439f-d0ac-42dc04451f66",
        "colab": {
          "base_uri": "https://localhost:8080/",
          "height": 34
        }
      },
      "source": [
        "validation_generator = test_datagen.flow_from_directory(\n",
        "    '/content/drive/My Drive/Validation/images',\n",
        "    target_size=(dim, dim),\n",
        "    batch_size=batch_size,\n",
        "    class_mode='categorical')"
      ],
      "execution_count": 12,
      "outputs": [
        {
          "output_type": "stream",
          "text": [
            "Found 350 images belonging to 7 classes.\n"
          ],
          "name": "stdout"
        }
      ]
    },
    {
      "cell_type": "code",
      "metadata": {
        "id": "D4X0yGvr6eIE",
        "colab_type": "code",
        "outputId": "aced9d76-8d2d-46ff-c8bd-a82a01bd3b05",
        "colab": {
          "base_uri": "https://localhost:8080/",
          "height": 34
        }
      },
      "source": [
        "print(validation_generator.class_indices)"
      ],
      "execution_count": 13,
      "outputs": [
        {
          "output_type": "stream",
          "text": [
            "{'0 Parade': 0, '1 Handshaking': 1, '2 Demonstration': 2, '3 Riot': 3, '4 Cheering': 4, '5 Shoppers': 5, '6 Soccer': 6}\n"
          ],
          "name": "stdout"
        }
      ]
    },
    {
      "cell_type": "code",
      "metadata": {
        "id": "HFEQ4TCZ6gVX",
        "colab_type": "code",
        "outputId": "35ccf14d-75c3-4abc-b4f8-8c4668eeeded",
        "colab": {
          "base_uri": "https://localhost:8080/",
          "height": 1000
        }
      },
      "source": [
        "model.fit_generator(\n",
        "    train_generator,\n",
        "    steps_per_epoch=num_training_img // batch_size,  # steps =  num_images // batch_size = total num of complete passes\n",
        "    epochs=30,\n",
        "    validation_data=validation_generator,\n",
        "    validation_steps=num_val_img // batch_size)"
      ],
      "execution_count": 14,
      "outputs": [
        {
          "output_type": "stream",
          "text": [
            "W0811 11:19:42.258646 139674429736832 deprecation.py:323] From /usr/local/lib/python3.6/dist-packages/tensorflow/python/ops/math_grad.py:1250: add_dispatch_support.<locals>.wrapper (from tensorflow.python.ops.array_ops) is deprecated and will be removed in a future version.\n",
            "Instructions for updating:\n",
            "Use tf.where in 2.0, which has the same broadcast rule as np.where\n"
          ],
          "name": "stderr"
        },
        {
          "output_type": "stream",
          "text": [
            "Epoch 1/30\n",
            "45/45 [==============================] - 435s 10s/step - loss: 1.8929 - acc: 0.2736 - val_loss: 1.6006 - val_acc: 0.4562\n",
            "Epoch 2/30\n",
            "45/45 [==============================] - 42s 932ms/step - loss: 1.5624 - acc: 0.4034 - val_loss: 1.3675 - val_acc: 0.5314\n",
            "Epoch 3/30\n",
            "45/45 [==============================] - 37s 814ms/step - loss: 1.4418 - acc: 0.4594 - val_loss: 1.4755 - val_acc: 0.4403\n",
            "Epoch 4/30\n",
            "45/45 [==============================] - 37s 813ms/step - loss: 1.3438 - acc: 0.5020 - val_loss: 1.2486 - val_acc: 0.5346\n",
            "Epoch 5/30\n",
            "45/45 [==============================] - 37s 814ms/step - loss: 1.3175 - acc: 0.5096 - val_loss: 1.2547 - val_acc: 0.4937\n",
            "Epoch 6/30\n",
            "45/45 [==============================] - 37s 812ms/step - loss: 1.2749 - acc: 0.5049 - val_loss: 1.2204 - val_acc: 0.5314\n",
            "Epoch 7/30\n",
            "45/45 [==============================] - 36s 811ms/step - loss: 1.2439 - acc: 0.5445 - val_loss: 1.2141 - val_acc: 0.5535\n",
            "Epoch 8/30\n",
            "45/45 [==============================] - 37s 811ms/step - loss: 1.1535 - acc: 0.5760 - val_loss: 1.1624 - val_acc: 0.6132\n",
            "Epoch 9/30\n",
            "45/45 [==============================] - 36s 809ms/step - loss: 1.1469 - acc: 0.5681 - val_loss: 1.3167 - val_acc: 0.5189\n",
            "Epoch 10/30\n",
            "45/45 [==============================] - 36s 810ms/step - loss: 1.1138 - acc: 0.5951 - val_loss: 1.1147 - val_acc: 0.5692\n",
            "Epoch 11/30\n",
            "45/45 [==============================] - 37s 811ms/step - loss: 1.1344 - acc: 0.5612 - val_loss: 1.2038 - val_acc: 0.5692\n",
            "Epoch 12/30\n",
            "45/45 [==============================] - 36s 810ms/step - loss: 1.0892 - acc: 0.5989 - val_loss: 1.1375 - val_acc: 0.5906\n",
            "Epoch 13/30\n",
            "45/45 [==============================] - 37s 812ms/step - loss: 1.0437 - acc: 0.6302 - val_loss: 1.2263 - val_acc: 0.5252\n",
            "Epoch 14/30\n",
            "45/45 [==============================] - 36s 810ms/step - loss: 1.0349 - acc: 0.6091 - val_loss: 1.2558 - val_acc: 0.5252\n",
            "Epoch 15/30\n",
            "45/45 [==============================] - 36s 810ms/step - loss: 0.9959 - acc: 0.6323 - val_loss: 1.2021 - val_acc: 0.5629\n",
            "Epoch 16/30\n",
            "45/45 [==============================] - 36s 811ms/step - loss: 0.9920 - acc: 0.6431 - val_loss: 1.4062 - val_acc: 0.4843\n",
            "Epoch 17/30\n",
            "45/45 [==============================] - 37s 811ms/step - loss: 0.9987 - acc: 0.6399 - val_loss: 1.1690 - val_acc: 0.5472\n",
            "Epoch 18/30\n",
            "45/45 [==============================] - 36s 807ms/step - loss: 0.9674 - acc: 0.6487 - val_loss: 1.1900 - val_acc: 0.5472\n",
            "Epoch 19/30\n",
            "45/45 [==============================] - 37s 814ms/step - loss: 0.9292 - acc: 0.6711 - val_loss: 1.1472 - val_acc: 0.5629\n",
            "Epoch 20/30\n",
            "45/45 [==============================] - 36s 810ms/step - loss: 0.9154 - acc: 0.6640 - val_loss: 1.2634 - val_acc: 0.5189\n",
            "Epoch 21/30\n",
            "45/45 [==============================] - 37s 814ms/step - loss: 0.9129 - acc: 0.6661 - val_loss: 1.2247 - val_acc: 0.5755\n",
            "Epoch 22/30\n",
            "45/45 [==============================] - 36s 810ms/step - loss: 0.8948 - acc: 0.6669 - val_loss: 1.0772 - val_acc: 0.5975\n",
            "Epoch 23/30\n",
            "45/45 [==============================] - 37s 812ms/step - loss: 0.8957 - acc: 0.6817 - val_loss: 1.2791 - val_acc: 0.5219\n",
            "Epoch 24/30\n",
            "45/45 [==============================] - 37s 814ms/step - loss: 0.8464 - acc: 0.6781 - val_loss: 1.2268 - val_acc: 0.5692\n",
            "Epoch 25/30\n",
            "45/45 [==============================] - 36s 811ms/step - loss: 0.8339 - acc: 0.6940 - val_loss: 1.2286 - val_acc: 0.5692\n",
            "Epoch 26/30\n",
            "45/45 [==============================] - 37s 812ms/step - loss: 0.8432 - acc: 0.6987 - val_loss: 1.0697 - val_acc: 0.6006\n",
            "Epoch 27/30\n",
            "45/45 [==============================] - 36s 808ms/step - loss: 0.8196 - acc: 0.6976 - val_loss: 1.1722 - val_acc: 0.5692\n",
            "Epoch 28/30\n",
            "45/45 [==============================] - 37s 812ms/step - loss: 0.7856 - acc: 0.7059 - val_loss: 1.1594 - val_acc: 0.5629\n",
            "Epoch 29/30\n",
            "45/45 [==============================] - 37s 813ms/step - loss: 0.7599 - acc: 0.7148 - val_loss: 1.1872 - val_acc: 0.5314\n",
            "Epoch 30/30\n",
            "45/45 [==============================] - 36s 810ms/step - loss: 0.7629 - acc: 0.7143 - val_loss: 1.2228 - val_acc: 0.5566\n"
          ],
          "name": "stdout"
        },
        {
          "output_type": "execute_result",
          "data": {
            "text/plain": [
              "<keras.callbacks.History at 0x7f08206cc278>"
            ]
          },
          "metadata": {
            "tags": []
          },
          "execution_count": 14
        }
      ]
    },
    {
      "cell_type": "code",
      "metadata": {
        "id": "Lu4sZBnc6jJN",
        "colab_type": "code",
        "outputId": "095032bf-3dcd-4320-f9f1-a6d580e4c940",
        "colab": {
          "base_uri": "https://localhost:8080/",
          "height": 391
        }
      },
      "source": [
        "for i, layer in enumerate(base_model.layers):\n",
        "    print(i, layer.name)"
      ],
      "execution_count": 15,
      "outputs": [
        {
          "output_type": "stream",
          "text": [
            "0 input_1\n",
            "1 block1_conv1\n",
            "2 block1_conv2\n",
            "3 block1_pool\n",
            "4 block2_conv1\n",
            "5 block2_conv2\n",
            "6 block2_pool\n",
            "7 block3_conv1\n",
            "8 block3_conv2\n",
            "9 block3_conv3\n",
            "10 block3_conv4\n",
            "11 block3_pool\n",
            "12 block4_conv1\n",
            "13 block4_conv2\n",
            "14 block4_conv3\n",
            "15 block4_conv4\n",
            "16 block4_pool\n",
            "17 block5_conv1\n",
            "18 block5_conv2\n",
            "19 block5_conv3\n",
            "20 block5_conv4\n",
            "21 block5_pool\n"
          ],
          "name": "stdout"
        }
      ]
    },
    {
      "cell_type": "markdown",
      "metadata": {
        "id": "7Ho2_DHnB_Lt",
        "colab_type": "text"
      },
      "source": [
        "Testing Process"
      ]
    },
    {
      "cell_type": "code",
      "metadata": {
        "id": "rFLM5QJX-OrO",
        "colab_type": "code",
        "outputId": "168cb9c5-dece-4280-e0bd-68cc5985ab3d",
        "colab": {
          "base_uri": "https://localhost:8080/",
          "height": 34
        }
      },
      "source": [
        "test_generator = ImageDataGenerator(rescale=1. / 255)\n",
        "test_data_generator = test_generator.flow_from_directory(\n",
        "    '/content/drive/My Drive/prediction2/images',\n",
        "    target_size=(dim, dim),\n",
        "    batch_size=batch_size,\n",
        "    shuffle=False)\n",
        "import numpy \n",
        "test_steps_per_epoch = numpy.math.ceil(test_data_generator.samples / test_data_generator.batch_size)"
      ],
      "execution_count": 16,
      "outputs": [
        {
          "output_type": "stream",
          "text": [
            "Found 140 images belonging to 7 classes.\n"
          ],
          "name": "stdout"
        }
      ]
    },
    {
      "cell_type": "code",
      "metadata": {
        "id": "ewy8YGEBDzi5",
        "colab_type": "code",
        "colab": {}
      },
      "source": [
        "predictions = model.predict_generator(test_data_generator, steps=test_steps_per_epoch)"
      ],
      "execution_count": 0,
      "outputs": []
    },
    {
      "cell_type": "code",
      "metadata": {
        "id": "htwIh27gGtMq",
        "colab_type": "code",
        "outputId": "df3f8a94-5a38-4419-a79b-04dd76ccf172",
        "colab": {
          "base_uri": "https://localhost:8080/",
          "height": 34
        }
      },
      "source": [
        "predicted_classes = numpy.argmax(predictions, axis=1)\n",
        "print(len(predicted_classes))"
      ],
      "execution_count": 18,
      "outputs": [
        {
          "output_type": "stream",
          "text": [
            "140\n"
          ],
          "name": "stdout"
        }
      ]
    },
    {
      "cell_type": "code",
      "metadata": {
        "id": "PyqDyNhhHb95",
        "colab_type": "code",
        "colab": {}
      },
      "source": [
        "true_classes = test_data_generator.classes\n",
        "class_labels = list(test_data_generator.class_indices.keys())   "
      ],
      "execution_count": 0,
      "outputs": []
    },
    {
      "cell_type": "code",
      "metadata": {
        "id": "eCquqNbuHi1K",
        "colab_type": "code",
        "colab": {}
      },
      "source": [
        "labels = (train_generator.class_indices)\n",
        "labels = dict((v,k) for k,v in labels.items())\n",
        "predictions = [labels[k] for k in predicted_classes]"
      ],
      "execution_count": 0,
      "outputs": []
    },
    {
      "cell_type": "code",
      "metadata": {
        "id": "EMYTEiuMHlzb",
        "colab_type": "code",
        "outputId": "36446244-8a8d-44f6-dda9-ce22f60a3231",
        "colab": {
          "base_uri": "https://localhost:8080/",
          "height": 255
        }
      },
      "source": [
        "import sklearn.metrics as metrics\n",
        "\n",
        "report = metrics.classification_report(true_classes, predicted_classes, target_names=class_labels)\n",
        "print(report)"
      ],
      "execution_count": 25,
      "outputs": [
        {
          "output_type": "stream",
          "text": [
            "                 precision    recall  f1-score   support\n",
            "\n",
            "       0 Parade       0.82      0.70      0.76        20\n",
            "  1 Handshaking       0.76      0.80      0.78        20\n",
            "2 Demonstration       0.78      0.35      0.48        20\n",
            "         3 Riot       0.58      0.95      0.72        20\n",
            "     4 Cheering       0.83      0.75      0.79        20\n",
            "     5 Shoppers       0.70      0.80      0.74        20\n",
            "       6 Soccer       0.95      0.90      0.92        20\n",
            "\n",
            "       accuracy                           0.75       140\n",
            "      macro avg       0.77      0.75      0.74       140\n",
            "   weighted avg       0.77      0.75      0.74       140\n",
            "\n"
          ],
          "name": "stdout"
        }
      ]
    },
    {
      "cell_type": "code",
      "metadata": {
        "id": "LITVa1aYHqLN",
        "colab_type": "code",
        "outputId": "d659d2b8-9084-40d7-800d-18224230e9c6",
        "colab": {
          "base_uri": "https://localhost:8080/",
          "height": 340
        }
      },
      "source": [
        "# display the confusion matrix\n",
        "import seaborn as sns\n",
        "from sklearn.metrics import confusion_matrix\n",
        "import matplotlib.pyplot as plt\n",
        "\n",
        "import pandas as pd\n",
        "print (\"[INFO] confusion matrix\")\n",
        "\n",
        "# get the list of training lables\n",
        "#labels = sorted(list(os.listdir(test_path)))\n",
        "\n",
        "# plot the confusion matrix\n",
        "cm = confusion_matrix(true_classes, predicted_classes)\n",
        "cm_df = pd.DataFrame(cm,\n",
        "                     index = ['parade','handshaking','demo','riot','cheering','shoppers','soccer'], \n",
        "                     columns = ['parade','handshaking','demo','riot','cheering','shoppers','soccer'])\n",
        "sns.heatmap(cm_df,\n",
        "            annot=True,\n",
        "            cmap=\"Set3\")\n",
        "\n",
        "plt.show()"
      ],
      "execution_count": 24,
      "outputs": [
        {
          "output_type": "stream",
          "text": [
            "[INFO] confusion matrix\n"
          ],
          "name": "stdout"
        },
        {
          "output_type": "display_data",
          "data": {
            "image/png": "[encoded data removed]",
            "text/plain": [
              "<Figure size 432x288 with 2 Axes>"
            ]
          },
          "metadata": {
            "tags": []
          }
        }
      ]
    },
    {
      "cell_type": "code",
      "metadata": {
        "id": "mpC3UL-tH2n3",
        "colab_type": "code",
        "outputId": "3b6bf4c4-1853-4807-cde0-a85a42a28935",
        "colab": {
          "base_uri": "https://localhost:8080/",
          "height": 136
        }
      },
      "source": [
        "predicted_classes"
      ],
      "execution_count": 23,
      "outputs": [
        {
          "output_type": "execute_result",
          "data": {
            "text/plain": [
              "array([1, 0, 3, 0, 0, 0, 0, 0, 2, 0, 0, 0, 0, 0, 0, 3, 5, 0, 0, 4, 1, 1,\n",
              "       5, 1, 3, 1, 1, 1, 1, 1, 1, 5, 1, 1, 1, 1, 1, 5, 1, 1, 3, 2, 2, 2,\n",
              "       2, 2, 3, 2, 3, 5, 5, 3, 4, 3, 5, 3, 3, 2, 3, 3, 3, 3, 3, 3, 3, 3,\n",
              "       3, 3, 3, 0, 3, 3, 3, 3, 3, 3, 3, 3, 3, 3, 4, 4, 4, 4, 4, 4, 4, 4,\n",
              "       4, 4, 1, 4, 1, 4, 2, 6, 4, 4, 4, 3, 5, 1, 5, 5, 5, 1, 5, 3, 5, 5,\n",
              "       4, 5, 5, 5, 5, 5, 5, 5, 5, 5, 6, 6, 6, 6, 6, 6, 6, 6, 6, 6, 6, 6,\n",
              "       6, 6, 6, 0, 6, 0, 6, 6])"
            ]
          },
          "metadata": {
            "tags": []
          },
          "execution_count": 23
        }
      ]
    },
    {
      "cell_type": "code",
      "metadata": {
        "id": "TlmM98fVtcdj",
        "colab_type": "code",
        "colab": {}
      },
      "source": [
        ""
      ],
      "execution_count": 0,
      "outputs": []
    }
  ]
}