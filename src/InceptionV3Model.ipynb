{
  "nbformat": 4,
  "nbformat_minor": 0,
  "metadata": {
    "colab": {
      "name": "InceptionV3Model.ipynb",
      "version": "0.3.2",
      "provenance": [],
      "collapsed_sections": []
    },
    "kernelspec": {
      "name": "python3",
      "display_name": "Python 3"
    },
    "accelerator": "GPU"
  },
  "cells": [
    {
      "cell_type": "markdown",
      "metadata": {
        "id": "M8M3mcT96GSi",
        "colab_type": "text"
      },
      "source": [
        "**Inception V3 pretrained model for recognition of events from images**\n",
        "\n",
        "This code is adapted from \"Flower17\" classification project available at : https://github.com/bouwkast/Flower-CNN"
      ]
    },
    {
      "cell_type": "code",
      "metadata": {
        "id": "qxyXUE6_8c4-",
        "colab_type": "code",
        "outputId": "23b14b28-cc0b-498c-a2fb-614da409ffd0",
        "colab": {
          "base_uri": "https://localhost:8080/",
          "height": 34
        }
      },
      "source": [
        "from keras.applications.inception_v3 import InceptionV3\n",
        "from keras.callbacks import ModelCheckpoint, EarlyStopping\n",
        "from keras.models import Model\n",
        "from keras.layers import Dense, GlobalAveragePooling2D\n",
        "\n",
        "\n",
        "# Create the base pre-trained model\n",
        "from keras.preprocessing.image import ImageDataGenerator"
      ],
      "execution_count": 0,
      "outputs": [
        {
          "output_type": "stream",
          "text": [
            "Using TensorFlow backend.\n"
          ],
          "name": "stderr"
        }
      ]
    },
    {
      "cell_type": "code",
      "metadata": {
        "id": "_h1xwTy98gdF",
        "colab_type": "code",
        "outputId": "5fe9f120-7099-4a20-efa0-30a0eababe20",
        "colab": {
          "base_uri": "https://localhost:8080/",
          "height": 360
        }
      },
      "source": [
        "base_model = InceptionV3(weights='imagenet', include_top=False)\n",
        "batch_size = 32  # batch size is chosen to help keep GPU memory usage low\n",
        "dim = 299  # InceptionV3 is trained on 299x299 images"
      ],
      "execution_count": 0,
      "outputs": [
        {
          "output_type": "stream",
          "text": [
            "WARNING: Logging before flag parsing goes to stderr.\n",
            "W0809 10:35:09.839377 140060236105600 deprecation_wrapper.py:119] From /usr/local/lib/python3.6/dist-packages/keras/backend/tensorflow_backend.py:74: The name tf.get_default_graph is deprecated. Please use tf.compat.v1.get_default_graph instead.\n",
            "\n",
            "W0809 10:35:09.892354 140060236105600 deprecation_wrapper.py:119] From /usr/local/lib/python3.6/dist-packages/keras/backend/tensorflow_backend.py:517: The name tf.placeholder is deprecated. Please use tf.compat.v1.placeholder instead.\n",
            "\n",
            "W0809 10:35:09.900448 140060236105600 deprecation_wrapper.py:119] From /usr/local/lib/python3.6/dist-packages/keras/backend/tensorflow_backend.py:4138: The name tf.random_uniform is deprecated. Please use tf.random.uniform instead.\n",
            "\n",
            "W0809 10:35:09.938286 140060236105600 deprecation_wrapper.py:119] From /usr/local/lib/python3.6/dist-packages/keras/backend/tensorflow_backend.py:174: The name tf.get_default_session is deprecated. Please use tf.compat.v1.get_default_session instead.\n",
            "\n",
            "W0809 10:35:09.939858 140060236105600 deprecation_wrapper.py:119] From /usr/local/lib/python3.6/dist-packages/keras/backend/tensorflow_backend.py:181: The name tf.ConfigProto is deprecated. Please use tf.compat.v1.ConfigProto instead.\n",
            "\n",
            "W0809 10:35:12.800335 140060236105600 deprecation_wrapper.py:119] From /usr/local/lib/python3.6/dist-packages/keras/backend/tensorflow_backend.py:1834: The name tf.nn.fused_batch_norm is deprecated. Please use tf.compat.v1.nn.fused_batch_norm instead.\n",
            "\n",
            "W0809 10:35:13.070198 140060236105600 deprecation_wrapper.py:119] From /usr/local/lib/python3.6/dist-packages/keras/backend/tensorflow_backend.py:3976: The name tf.nn.max_pool is deprecated. Please use tf.nn.max_pool2d instead.\n",
            "\n",
            "W0809 10:35:13.970528 140060236105600 deprecation_wrapper.py:119] From /usr/local/lib/python3.6/dist-packages/keras/backend/tensorflow_backend.py:3980: The name tf.nn.avg_pool is deprecated. Please use tf.nn.avg_pool2d instead.\n",
            "\n"
          ],
          "name": "stderr"
        },
        {
          "output_type": "stream",
          "text": [
            "Downloading data from https://github.com/fchollet/deep-learning-models/releases/download/v0.5/inception_v3_weights_tf_dim_ordering_tf_kernels_notop.h5\n",
            "87916544/87910968 [==============================] - 7s 0us/step\n"
          ],
          "name": "stdout"
        }
      ]
    },
    {
      "cell_type": "code",
      "metadata": {
        "id": "8FsKvyhG8kmN",
        "colab_type": "code",
        "colab": {}
      },
      "source": [
        "num_training_img = 1470  # number of training images for dataset\n",
        "num_val_img = 350  # number of validation images for dataset\n",
        "# Add a global spatial average pooling layer\n",
        "x = base_model.output\n",
        "x = GlobalAveragePooling2D()(x)\n",
        "# Add a fully-connected layer\n",
        "x = Dense(1024, activation='relu')(x)"
      ],
      "execution_count": 0,
      "outputs": []
    },
    {
      "cell_type": "code",
      "metadata": {
        "id": "LzaBSXJu8wvT",
        "colab_type": "code",
        "colab": {}
      },
      "source": [
        "# Select number of events to train on\n",
        "predictions = Dense(7, activation='softmax')(x)\n",
        "# predictions = Dense(17, activation='softmax')(x)"
      ],
      "execution_count": 0,
      "outputs": []
    },
    {
      "cell_type": "code",
      "metadata": {
        "id": "IuYMji408y3t",
        "colab_type": "code",
        "outputId": "32f5e4cc-6ce3-4828-d8fa-297aa3a4b0d6",
        "colab": {
          "base_uri": "https://localhost:8080/",
          "height": 71
        }
      },
      "source": [
        "# This is the model we will train\n",
        "model = Model(input=base_model.input, output=predictions)"
      ],
      "execution_count": 0,
      "outputs": [
        {
          "output_type": "stream",
          "text": [
            "/usr/local/lib/python3.6/dist-packages/ipykernel_launcher.py:1: UserWarning: Update your `Model` call to the Keras 2 API: `Model(inputs=Tensor(\"in..., outputs=Tensor(\"de...)`\n",
            "  \"\"\"Entry point for launching an IPython kernel.\n"
          ],
          "name": "stderr"
        }
      ]
    },
    {
      "cell_type": "code",
      "metadata": {
        "id": "74HfDmfW81ev",
        "colab_type": "code",
        "colab": {}
      },
      "source": [
        "# First: train only the top layers (which were randomly initialized)\n",
        "# i.e. freeze all convolutional InceptionV3 layers\n",
        "for layer in base_model.layers:\n",
        "    layer.trainable = False"
      ],
      "execution_count": 0,
      "outputs": []
    },
    {
      "cell_type": "code",
      "metadata": {
        "id": "pQU7VG7-84Yx",
        "colab_type": "code",
        "outputId": "5b3fb520-ff13-4615-88d9-8ee0162b3a29",
        "colab": {
          "base_uri": "https://localhost:8080/",
          "height": 71
        }
      },
      "source": [
        "# Compile the model (should be done *after* setting layers to non-trainable)\n",
        "model.compile(optimizer='rmsprop', loss='categorical_crossentropy', metrics=['accuracy'])"
      ],
      "execution_count": 0,
      "outputs": [
        {
          "output_type": "stream",
          "text": [
            "W0809 10:36:40.964383 140060236105600 deprecation_wrapper.py:119] From /usr/local/lib/python3.6/dist-packages/keras/optimizers.py:790: The name tf.train.Optimizer is deprecated. Please use tf.compat.v1.train.Optimizer instead.\n",
            "\n"
          ],
          "name": "stderr"
        }
      ]
    },
    {
      "cell_type": "code",
      "metadata": {
        "id": "xfWf_aeu8614",
        "colab_type": "code",
        "colab": {}
      },
      "source": [
        "# preprocessor for the training training data\n",
        "train_datagen = ImageDataGenerator(\n",
        "    rescale=1. / 255,  # regularize RGB color values to floats between 0.0 to 1.0\n",
        "    horizontal_flip=True,\n",
        "    fill_mode='constant')  # in case resizing needs to create new image - fill it in with black\n"
      ],
      "execution_count": 0,
      "outputs": []
    },
    {
      "cell_type": "code",
      "metadata": {
        "id": "UVn07bWh89Oi",
        "colab_type": "code",
        "colab": {}
      },
      "source": [
        "# preprocessor for the testing data\n",
        "# only rescaling for regularization\n",
        "test_datagen = ImageDataGenerator(rescale=1. / 255)"
      ],
      "execution_count": 0,
      "outputs": []
    },
    {
      "cell_type": "code",
      "metadata": {
        "id": "jhdmucSp9MKd",
        "colab_type": "code",
        "outputId": "626f1c09-0a00-41ae-c19a-053d2de31caf",
        "colab": {
          "base_uri": "https://localhost:8080/",
          "height": 122
        }
      },
      "source": [
        "from google.colab import drive\n",
        "import os\n",
        "drive.mount('/content/drive/')\n",
        "os.chdir('/content/drive/My Drive/widerdata/images')"
      ],
      "execution_count": 0,
      "outputs": [
        {
          "output_type": "stream",
          "text": [
            "Go to this URL in a browser: https://accounts.google.com/o/oauth2/auth?client_id=947318989803-6bn6qk8qdgf4n4g3pfee6491hc0brc4i.apps.googleusercontent.com&redirect_uri=urn%3Aietf%3Awg%3Aoauth%3A2.0%3Aoob&scope=email%20https%3A%2F%2Fwww.googleapis.com%2Fauth%2Fdocs.test%20https%3A%2F%2Fwww.googleapis.com%2Fauth%2Fdrive%20https%3A%2F%2Fwww.googleapis.com%2Fauth%2Fdrive.photos.readonly%20https%3A%2F%2Fwww.googleapis.com%2Fauth%2Fpeopleapi.readonly&response_type=code\n",
            "\n",
            "Enter your authorization code:\n",
            "··········\n",
            "Mounted at /content/drive/\n"
          ],
          "name": "stdout"
        }
      ]
    },
    {
      "cell_type": "code",
      "metadata": {
        "id": "ow53tVrB9OXK",
        "colab_type": "code",
        "outputId": "36ea0fb2-e1a8-4788-c7c4-97decf5e24a0",
        "colab": {
          "base_uri": "https://localhost:8080/",
          "height": 34
        }
      },
      "source": [
        "# generator for creating batch_size of training images with all transformations applied\n",
        "# leaves us with more images than we start with\n",
        "train_generator = train_datagen.flow_from_directory(\n",
        "    '/content/drive/My Drive/widerdata/images',  # this is the target directory\n",
        "    target_size=(dim, dim),  # all images will be resized to dim * dim\n",
        "    batch_size=batch_size,\n",
        "    class_mode='categorical')"
      ],
      "execution_count": 0,
      "outputs": [
        {
          "output_type": "stream",
          "text": [
            "Found 1470 images belonging to 7 classes.\n"
          ],
          "name": "stdout"
        }
      ]
    },
    {
      "cell_type": "code",
      "metadata": {
        "id": "h8GevQ8M9ZNH",
        "colab_type": "code",
        "outputId": "59369b70-9a5f-4224-8307-b727cdf0ea5c",
        "colab": {
          "base_uri": "https://localhost:8080/",
          "height": 34
        }
      },
      "source": [
        "# generator for creating batch_size of validation images with only regularization and resizing\n",
        "# leaves us with the same amount of images that we start with\n",
        "validation_generator = test_datagen.flow_from_directory(\n",
        "    '/content/drive/My Drive/Validation/images',\n",
        "    target_size=(dim, dim),\n",
        "    batch_size=batch_size,\n",
        "    class_mode='categorical')"
      ],
      "execution_count": 0,
      "outputs": [
        {
          "output_type": "stream",
          "text": [
            "Found 350 images belonging to 7 classes.\n"
          ],
          "name": "stdout"
        }
      ]
    },
    {
      "cell_type": "code",
      "metadata": {
        "id": "qEUuKhVH9btD",
        "colab_type": "code",
        "outputId": "0897a35f-d3de-4938-c5aa-412bf306a529",
        "colab": {
          "base_uri": "https://localhost:8080/",
          "height": 34
        }
      },
      "source": [
        "print(validation_generator.class_indices)"
      ],
      "execution_count": 0,
      "outputs": [
        {
          "output_type": "stream",
          "text": [
            "{'0 Parade': 0, '1 Handshaking': 1, '2 Demonstration': 2, '3 Riot': 3, '4 Cheering': 4, '5 Shoppers': 5, '6 Soccer': 6}\n"
          ],
          "name": "stdout"
        }
      ]
    },
    {
      "cell_type": "code",
      "metadata": {
        "id": "D2uyWtFY9fLR",
        "colab_type": "code",
        "outputId": "87690799-660b-44fe-a215-17946f72e71d",
        "colab": {
          "base_uri": "https://localhost:8080/",
          "height": 445
        }
      },
      "source": [
        "# all InceptionV3 layers are frozen, we train our added layers, where the weights were randomly initialized\n",
        "model.fit_generator(\n",
        "    train_generator,\n",
        "    steps_per_epoch=num_training_img // batch_size,  # steps =  num_images // batch_size = total num of complete passes\n",
        "    epochs=10,\n",
        "    validation_data=validation_generator,\n",
        "    validation_steps=num_val_img // batch_size)"
      ],
      "execution_count": 0,
      "outputs": [
        {
          "output_type": "stream",
          "text": [
            "W0809 10:39:21.234809 140060236105600 deprecation.py:323] From /usr/local/lib/python3.6/dist-packages/tensorflow/python/ops/math_grad.py:1250: add_dispatch_support.<locals>.wrapper (from tensorflow.python.ops.array_ops) is deprecated and will be removed in a future version.\n",
            "Instructions for updating:\n",
            "Use tf.where in 2.0, which has the same broadcast rule as np.where\n"
          ],
          "name": "stderr"
        },
        {
          "output_type": "stream",
          "text": [
            "Epoch 1/10\n",
            "45/45 [==============================] - 945s 21s/step - loss: 3.4793 - acc: 0.3049 - val_loss: 2.2891 - val_acc: 0.3125\n",
            "Epoch 2/10\n",
            "45/45 [==============================] - 34s 763ms/step - loss: 1.6306 - acc: 0.4337 - val_loss: 1.0340 - val_acc: 0.6258\n",
            "Epoch 3/10\n",
            "45/45 [==============================] - 18s 400ms/step - loss: 1.4280 - acc: 0.4894 - val_loss: 1.3066 - val_acc: 0.6038\n",
            "Epoch 4/10\n",
            "45/45 [==============================] - 18s 399ms/step - loss: 1.2473 - acc: 0.5752 - val_loss: 1.5548 - val_acc: 0.5252\n",
            "Epoch 5/10\n",
            "45/45 [==============================] - 18s 398ms/step - loss: 1.1589 - acc: 0.5832 - val_loss: 1.4947 - val_acc: 0.5063\n",
            "Epoch 6/10\n",
            "45/45 [==============================] - 18s 397ms/step - loss: 1.1204 - acc: 0.5919 - val_loss: 1.1042 - val_acc: 0.6352\n",
            "Epoch 7/10\n",
            "45/45 [==============================] - 18s 398ms/step - loss: 1.0403 - acc: 0.6194 - val_loss: 1.5027 - val_acc: 0.5566\n",
            "Epoch 8/10\n",
            "45/45 [==============================] - 18s 397ms/step - loss: 0.9966 - acc: 0.6605 - val_loss: 1.8606 - val_acc: 0.4717\n",
            "Epoch 9/10\n",
            "45/45 [==============================] - 18s 399ms/step - loss: 0.9348 - acc: 0.6703 - val_loss: 1.2526 - val_acc: 0.6352\n",
            "Epoch 10/10\n",
            "45/45 [==============================] - 18s 399ms/step - loss: 0.8938 - acc: 0.6787 - val_loss: 1.2977 - val_acc: 0.6006\n"
          ],
          "name": "stdout"
        },
        {
          "output_type": "execute_result",
          "data": {
            "text/plain": [
              "<keras.callbacks.History at 0x7f61b4983198>"
            ]
          },
          "metadata": {
            "tags": []
          },
          "execution_count": 14
        }
      ]
    },
    {
      "cell_type": "code",
      "metadata": {
        "id": "VZkj_tlG9h7U",
        "colab_type": "code",
        "outputId": "edeae94c-970f-4024-e9e5-98f1750264e9",
        "colab": {
          "base_uri": "https://localhost:8080/",
          "height": 1000
        }
      },
      "source": [
        "# At this point, the top layers are well trained and we can start fine-tuning\n",
        "# convolutional layers from inception V3. We will freeze the bottom N layers\n",
        "# and train the remaining top layers.\n",
        "\n",
        "# Let's visualize layer names and layer indices to see how many layers we should freeze:\n",
        "for i, layer in enumerate(base_model.layers):\n",
        "    print(i, layer.name)"
      ],
      "execution_count": 0,
      "outputs": [
        {
          "output_type": "stream",
          "text": [
            "0 input_1\n",
            "1 conv2d_1\n",
            "2 batch_normalization_1\n",
            "3 activation_1\n",
            "4 conv2d_2\n",
            "5 batch_normalization_2\n",
            "6 activation_2\n",
            "7 conv2d_3\n",
            "8 batch_normalization_3\n",
            "9 activation_3\n",
            "10 max_pooling2d_1\n",
            "11 conv2d_4\n",
            "12 batch_normalization_4\n",
            "13 activation_4\n",
            "14 conv2d_5\n",
            "15 batch_normalization_5\n",
            "16 activation_5\n",
            "17 max_pooling2d_2\n",
            "18 conv2d_9\n",
            "19 batch_normalization_9\n",
            "20 activation_9\n",
            "21 conv2d_7\n",
            "22 conv2d_10\n",
            "23 batch_normalization_7\n",
            "24 batch_normalization_10\n",
            "25 activation_7\n",
            "26 activation_10\n",
            "27 average_pooling2d_1\n",
            "28 conv2d_6\n",
            "29 conv2d_8\n",
            "30 conv2d_11\n",
            "31 conv2d_12\n",
            "32 batch_normalization_6\n",
            "33 batch_normalization_8\n",
            "34 batch_normalization_11\n",
            "35 batch_normalization_12\n",
            "36 activation_6\n",
            "37 activation_8\n",
            "38 activation_11\n",
            "39 activation_12\n",
            "40 mixed0\n",
            "41 conv2d_16\n",
            "42 batch_normalization_16\n",
            "43 activation_16\n",
            "44 conv2d_14\n",
            "45 conv2d_17\n",
            "46 batch_normalization_14\n",
            "47 batch_normalization_17\n",
            "48 activation_14\n",
            "49 activation_17\n",
            "50 average_pooling2d_2\n",
            "51 conv2d_13\n",
            "52 conv2d_15\n",
            "53 conv2d_18\n",
            "54 conv2d_19\n",
            "55 batch_normalization_13\n",
            "56 batch_normalization_15\n",
            "57 batch_normalization_18\n",
            "58 batch_normalization_19\n",
            "59 activation_13\n",
            "60 activation_15\n",
            "61 activation_18\n",
            "62 activation_19\n",
            "63 mixed1\n",
            "64 conv2d_23\n",
            "65 batch_normalization_23\n",
            "66 activation_23\n",
            "67 conv2d_21\n",
            "68 conv2d_24\n",
            "69 batch_normalization_21\n",
            "70 batch_normalization_24\n",
            "71 activation_21\n",
            "72 activation_24\n",
            "73 average_pooling2d_3\n",
            "74 conv2d_20\n",
            "75 conv2d_22\n",
            "76 conv2d_25\n",
            "77 conv2d_26\n",
            "78 batch_normalization_20\n",
            "79 batch_normalization_22\n",
            "80 batch_normalization_25\n",
            "81 batch_normalization_26\n",
            "82 activation_20\n",
            "83 activation_22\n",
            "84 activation_25\n",
            "85 activation_26\n",
            "86 mixed2\n",
            "87 conv2d_28\n",
            "88 batch_normalization_28\n",
            "89 activation_28\n",
            "90 conv2d_29\n",
            "91 batch_normalization_29\n",
            "92 activation_29\n",
            "93 conv2d_27\n",
            "94 conv2d_30\n",
            "95 batch_normalization_27\n",
            "96 batch_normalization_30\n",
            "97 activation_27\n",
            "98 activation_30\n",
            "99 max_pooling2d_3\n",
            "100 mixed3\n",
            "101 conv2d_35\n",
            "102 batch_normalization_35\n",
            "103 activation_35\n",
            "104 conv2d_36\n",
            "105 batch_normalization_36\n",
            "106 activation_36\n",
            "107 conv2d_32\n",
            "108 conv2d_37\n",
            "109 batch_normalization_32\n",
            "110 batch_normalization_37\n",
            "111 activation_32\n",
            "112 activation_37\n",
            "113 conv2d_33\n",
            "114 conv2d_38\n",
            "115 batch_normalization_33\n",
            "116 batch_normalization_38\n",
            "117 activation_33\n",
            "118 activation_38\n",
            "119 average_pooling2d_4\n",
            "120 conv2d_31\n",
            "121 conv2d_34\n",
            "122 conv2d_39\n",
            "123 conv2d_40\n",
            "124 batch_normalization_31\n",
            "125 batch_normalization_34\n",
            "126 batch_normalization_39\n",
            "127 batch_normalization_40\n",
            "128 activation_31\n",
            "129 activation_34\n",
            "130 activation_39\n",
            "131 activation_40\n",
            "132 mixed4\n",
            "133 conv2d_45\n",
            "134 batch_normalization_45\n",
            "135 activation_45\n",
            "136 conv2d_46\n",
            "137 batch_normalization_46\n",
            "138 activation_46\n",
            "139 conv2d_42\n",
            "140 conv2d_47\n",
            "141 batch_normalization_42\n",
            "142 batch_normalization_47\n",
            "143 activation_42\n",
            "144 activation_47\n",
            "145 conv2d_43\n",
            "146 conv2d_48\n",
            "147 batch_normalization_43\n",
            "148 batch_normalization_48\n",
            "149 activation_43\n",
            "150 activation_48\n",
            "151 average_pooling2d_5\n",
            "152 conv2d_41\n",
            "153 conv2d_44\n",
            "154 conv2d_49\n",
            "155 conv2d_50\n",
            "156 batch_normalization_41\n",
            "157 batch_normalization_44\n",
            "158 batch_normalization_49\n",
            "159 batch_normalization_50\n",
            "160 activation_41\n",
            "161 activation_44\n",
            "162 activation_49\n",
            "163 activation_50\n",
            "164 mixed5\n",
            "165 conv2d_55\n",
            "166 batch_normalization_55\n",
            "167 activation_55\n",
            "168 conv2d_56\n",
            "169 batch_normalization_56\n",
            "170 activation_56\n",
            "171 conv2d_52\n",
            "172 conv2d_57\n",
            "173 batch_normalization_52\n",
            "174 batch_normalization_57\n",
            "175 activation_52\n",
            "176 activation_57\n",
            "177 conv2d_53\n",
            "178 conv2d_58\n",
            "179 batch_normalization_53\n",
            "180 batch_normalization_58\n",
            "181 activation_53\n",
            "182 activation_58\n",
            "183 average_pooling2d_6\n",
            "184 conv2d_51\n",
            "185 conv2d_54\n",
            "186 conv2d_59\n",
            "187 conv2d_60\n",
            "188 batch_normalization_51\n",
            "189 batch_normalization_54\n",
            "190 batch_normalization_59\n",
            "191 batch_normalization_60\n",
            "192 activation_51\n",
            "193 activation_54\n",
            "194 activation_59\n",
            "195 activation_60\n",
            "196 mixed6\n",
            "197 conv2d_65\n",
            "198 batch_normalization_65\n",
            "199 activation_65\n",
            "200 conv2d_66\n",
            "201 batch_normalization_66\n",
            "202 activation_66\n",
            "203 conv2d_62\n",
            "204 conv2d_67\n",
            "205 batch_normalization_62\n",
            "206 batch_normalization_67\n",
            "207 activation_62\n",
            "208 activation_67\n",
            "209 conv2d_63\n",
            "210 conv2d_68\n",
            "211 batch_normalization_63\n",
            "212 batch_normalization_68\n",
            "213 activation_63\n",
            "214 activation_68\n",
            "215 average_pooling2d_7\n",
            "216 conv2d_61\n",
            "217 conv2d_64\n",
            "218 conv2d_69\n",
            "219 conv2d_70\n",
            "220 batch_normalization_61\n",
            "221 batch_normalization_64\n",
            "222 batch_normalization_69\n",
            "223 batch_normalization_70\n",
            "224 activation_61\n",
            "225 activation_64\n",
            "226 activation_69\n",
            "227 activation_70\n",
            "228 mixed7\n",
            "229 conv2d_73\n",
            "230 batch_normalization_73\n",
            "231 activation_73\n",
            "232 conv2d_74\n",
            "233 batch_normalization_74\n",
            "234 activation_74\n",
            "235 conv2d_71\n",
            "236 conv2d_75\n",
            "237 batch_normalization_71\n",
            "238 batch_normalization_75\n",
            "239 activation_71\n",
            "240 activation_75\n",
            "241 conv2d_72\n",
            "242 conv2d_76\n",
            "243 batch_normalization_72\n",
            "244 batch_normalization_76\n",
            "245 activation_72\n",
            "246 activation_76\n",
            "247 max_pooling2d_4\n",
            "248 mixed8\n",
            "249 conv2d_81\n",
            "250 batch_normalization_81\n",
            "251 activation_81\n",
            "252 conv2d_78\n",
            "253 conv2d_82\n",
            "254 batch_normalization_78\n",
            "255 batch_normalization_82\n",
            "256 activation_78\n",
            "257 activation_82\n",
            "258 conv2d_79\n",
            "259 conv2d_80\n",
            "260 conv2d_83\n",
            "261 conv2d_84\n",
            "262 average_pooling2d_8\n",
            "263 conv2d_77\n",
            "264 batch_normalization_79\n",
            "265 batch_normalization_80\n",
            "266 batch_normalization_83\n",
            "267 batch_normalization_84\n",
            "268 conv2d_85\n",
            "269 batch_normalization_77\n",
            "270 activation_79\n",
            "271 activation_80\n",
            "272 activation_83\n",
            "273 activation_84\n",
            "274 batch_normalization_85\n",
            "275 activation_77\n",
            "276 mixed9_0\n",
            "277 concatenate_1\n",
            "278 activation_85\n",
            "279 mixed9\n",
            "280 conv2d_90\n",
            "281 batch_normalization_90\n",
            "282 activation_90\n",
            "283 conv2d_87\n",
            "284 conv2d_91\n",
            "285 batch_normalization_87\n",
            "286 batch_normalization_91\n",
            "287 activation_87\n",
            "288 activation_91\n",
            "289 conv2d_88\n",
            "290 conv2d_89\n",
            "291 conv2d_92\n",
            "292 conv2d_93\n",
            "293 average_pooling2d_9\n",
            "294 conv2d_86\n",
            "295 batch_normalization_88\n",
            "296 batch_normalization_89\n",
            "297 batch_normalization_92\n",
            "298 batch_normalization_93\n",
            "299 conv2d_94\n",
            "300 batch_normalization_86\n",
            "301 activation_88\n",
            "302 activation_89\n",
            "303 activation_92\n",
            "304 activation_93\n",
            "305 batch_normalization_94\n",
            "306 activation_86\n",
            "307 mixed9_1\n",
            "308 concatenate_2\n",
            "309 activation_94\n",
            "310 mixed10\n"
          ],
          "name": "stdout"
        }
      ]
    },
    {
      "cell_type": "code",
      "metadata": {
        "id": "qCuxr56OFoVo",
        "colab_type": "code",
        "colab": {}
      },
      "source": [
        "# We chose to train the top 2 inception blocks, i.e. we will freeze\n",
        "# the first 172 layers and unfreeze the rest. This prevents overfitting.\n",
        "for layer in model.layers[:172]:\n",
        "    layer.trainable = False\n",
        "for layer in model.layers[172:]:\n",
        "    layer.trainable = True"
      ],
      "execution_count": 0,
      "outputs": []
    },
    {
      "cell_type": "code",
      "metadata": {
        "id": "JEw_gmJUFrAF",
        "colab_type": "code",
        "colab": {}
      },
      "source": [
        "# We need to recompile the model for these modifications to take effect\n",
        "# We use SGD with a low learning rate\n",
        "from keras.optimizers import SGD"
      ],
      "execution_count": 0,
      "outputs": []
    },
    {
      "cell_type": "code",
      "metadata": {
        "id": "x1EVACtJFs5-",
        "colab_type": "code",
        "colab": {}
      },
      "source": [
        "model.compile(optimizer=SGD(lr=0.0001, momentum=0.9), loss='categorical_crossentropy', metrics=['accuracy'])"
      ],
      "execution_count": 0,
      "outputs": []
    },
    {
      "cell_type": "code",
      "metadata": {
        "id": "E95MVkCAFvFH",
        "colab_type": "code",
        "outputId": "81f5274d-34c7-4879-aaec-5544294e6b51",
        "colab": {
          "base_uri": "https://localhost:8080/",
          "height": 1000
        }
      },
      "source": [
        "# train our model while back propagating through our layers and the top two blocks of the InceptionV3 architecture\n",
        "model.fit_generator(\n",
        "    train_generator,\n",
        "    steps_per_epoch=num_training_img // batch_size,\n",
        "    epochs=100,\n",
        "    validation_data=validation_generator,\n",
        "    validation_steps=num_val_img // batch_size,\n",
        "    callbacks=[EarlyStopping(patience=50), ModelCheckpoint('7_modelInceptionV31.h5', verbose=1, save_best_only=True)])"
      ],
      "execution_count": 0,
      "outputs": [
        {
          "output_type": "stream",
          "text": [
            "Epoch 1/100\n",
            "45/45 [==============================] - 41s 906ms/step - loss: 0.6757 - acc: 0.7567 - val_loss: 0.9456 - val_acc: 0.6572\n",
            "\n",
            "Epoch 00001: val_loss improved from inf to 0.94556, saving model to 7_modelInceptionV31.h5\n",
            "Epoch 2/100\n",
            "45/45 [==============================] - 30s 657ms/step - loss: 0.5632 - acc: 0.8118 - val_loss: 0.9487 - val_acc: 0.6687\n",
            "\n",
            "Epoch 00002: val_loss did not improve from 0.94556\n",
            "Epoch 3/100\n",
            "45/45 [==============================] - 29s 650ms/step - loss: 0.4878 - acc: 0.8475 - val_loss: 0.8705 - val_acc: 0.6918\n",
            "\n",
            "Epoch 00003: val_loss improved from 0.94556 to 0.87050, saving model to 7_modelInceptionV31.h5\n",
            "Epoch 4/100\n",
            "45/45 [==============================] - 29s 651ms/step - loss: 0.4668 - acc: 0.8644 - val_loss: 0.9238 - val_acc: 0.7107\n",
            "\n",
            "Epoch 00004: val_loss did not improve from 0.87050\n",
            "Epoch 5/100\n",
            "45/45 [==============================] - 29s 652ms/step - loss: 0.4257 - acc: 0.8733 - val_loss: 0.9089 - val_acc: 0.6730\n",
            "\n",
            "Epoch 00005: val_loss did not improve from 0.87050\n",
            "Epoch 6/100\n",
            "45/45 [==============================] - 29s 651ms/step - loss: 0.4112 - acc: 0.8784 - val_loss: 0.9139 - val_acc: 0.6887\n",
            "\n",
            "Epoch 00006: val_loss did not improve from 0.87050\n",
            "Epoch 7/100\n",
            "45/45 [==============================] - 29s 650ms/step - loss: 0.3593 - acc: 0.9062 - val_loss: 1.0014 - val_acc: 0.6855\n",
            "\n",
            "Epoch 00007: val_loss did not improve from 0.87050\n",
            "Epoch 8/100\n",
            "45/45 [==============================] - 29s 653ms/step - loss: 0.3542 - acc: 0.9068 - val_loss: 0.8277 - val_acc: 0.7327\n",
            "\n",
            "Epoch 00008: val_loss improved from 0.87050 to 0.82775, saving model to 7_modelInceptionV31.h5\n",
            "Epoch 9/100\n",
            "45/45 [==============================] - 29s 652ms/step - loss: 0.3162 - acc: 0.9213 - val_loss: 0.9147 - val_acc: 0.6730\n",
            "\n",
            "Epoch 00009: val_loss did not improve from 0.82775\n",
            "Epoch 10/100\n",
            "45/45 [==============================] - 29s 650ms/step - loss: 0.3018 - acc: 0.9283 - val_loss: 0.9616 - val_acc: 0.6918\n",
            "\n",
            "Epoch 00010: val_loss did not improve from 0.82775\n",
            "Epoch 11/100\n",
            "45/45 [==============================] - 29s 652ms/step - loss: 0.2816 - acc: 0.9351 - val_loss: 0.8819 - val_acc: 0.7107\n",
            "\n",
            "Epoch 00011: val_loss did not improve from 0.82775\n",
            "Epoch 12/100\n",
            "45/45 [==============================] - 29s 650ms/step - loss: 0.2586 - acc: 0.9492 - val_loss: 0.9109 - val_acc: 0.6918\n",
            "\n",
            "Epoch 00012: val_loss did not improve from 0.82775\n",
            "Epoch 13/100\n",
            "45/45 [==============================] - 29s 652ms/step - loss: 0.2595 - acc: 0.9477 - val_loss: 0.9174 - val_acc: 0.6844\n",
            "\n",
            "Epoch 00013: val_loss did not improve from 0.82775\n",
            "Epoch 14/100\n",
            "45/45 [==============================] - 29s 649ms/step - loss: 0.2184 - acc: 0.9645 - val_loss: 0.9455 - val_acc: 0.6918\n",
            "\n",
            "Epoch 00014: val_loss did not improve from 0.82775\n",
            "Epoch 15/100\n",
            "45/45 [==============================] - 29s 652ms/step - loss: 0.2448 - acc: 0.9408 - val_loss: 0.8910 - val_acc: 0.7044\n",
            "\n",
            "Epoch 00015: val_loss did not improve from 0.82775\n",
            "Epoch 16/100\n",
            "45/45 [==============================] - 29s 649ms/step - loss: 0.2000 - acc: 0.9618 - val_loss: 0.8886 - val_acc: 0.7138\n",
            "\n",
            "Epoch 00016: val_loss did not improve from 0.82775\n",
            "Epoch 17/100\n",
            "45/45 [==============================] - 29s 651ms/step - loss: 0.1912 - acc: 0.9728 - val_loss: 1.0108 - val_acc: 0.6730\n",
            "\n",
            "Epoch 00017: val_loss did not improve from 0.82775\n",
            "Epoch 18/100\n",
            "45/45 [==============================] - 29s 649ms/step - loss: 0.1731 - acc: 0.9728 - val_loss: 0.8531 - val_acc: 0.7264\n",
            "\n",
            "Epoch 00018: val_loss did not improve from 0.82775\n",
            "Epoch 19/100\n",
            "45/45 [==============================] - 29s 650ms/step - loss: 0.1684 - acc: 0.9728 - val_loss: 0.9175 - val_acc: 0.7013\n",
            "\n",
            "Epoch 00019: val_loss did not improve from 0.82775\n",
            "Epoch 20/100\n",
            "45/45 [==============================] - 29s 650ms/step - loss: 0.1667 - acc: 0.9756 - val_loss: 0.9540 - val_acc: 0.7075\n",
            "\n",
            "Epoch 00020: val_loss did not improve from 0.82775\n",
            "Epoch 21/100\n",
            "45/45 [==============================] - 29s 652ms/step - loss: 0.1628 - acc: 0.9743 - val_loss: 0.9410 - val_acc: 0.6950\n",
            "\n",
            "Epoch 00021: val_loss did not improve from 0.82775\n",
            "Epoch 22/100\n",
            "45/45 [==============================] - 29s 651ms/step - loss: 0.1486 - acc: 0.9797 - val_loss: 0.8742 - val_acc: 0.7170\n",
            "\n",
            "Epoch 00022: val_loss did not improve from 0.82775\n",
            "Epoch 23/100\n",
            "45/45 [==============================] - 29s 651ms/step - loss: 0.1498 - acc: 0.9798 - val_loss: 0.9561 - val_acc: 0.6950\n",
            "\n",
            "Epoch 00023: val_loss did not improve from 0.82775\n",
            "Epoch 24/100\n",
            "45/45 [==============================] - 29s 653ms/step - loss: 0.1307 - acc: 0.9826 - val_loss: 0.9408 - val_acc: 0.6969\n",
            "\n",
            "Epoch 00024: val_loss did not improve from 0.82775\n",
            "Epoch 25/100\n",
            "45/45 [==============================] - 29s 649ms/step - loss: 0.1228 - acc: 0.9868 - val_loss: 0.9019 - val_acc: 0.7075\n",
            "\n",
            "Epoch 00025: val_loss did not improve from 0.82775\n",
            "Epoch 26/100\n",
            "45/45 [==============================] - 29s 650ms/step - loss: 0.1211 - acc: 0.9847 - val_loss: 0.9492 - val_acc: 0.7044\n",
            "\n",
            "Epoch 00026: val_loss did not improve from 0.82775\n",
            "Epoch 27/100\n",
            "45/45 [==============================] - 29s 651ms/step - loss: 0.1158 - acc: 0.9910 - val_loss: 0.9547 - val_acc: 0.6950\n",
            "\n",
            "Epoch 00027: val_loss did not improve from 0.82775\n",
            "Epoch 28/100\n",
            "45/45 [==============================] - 29s 651ms/step - loss: 0.1077 - acc: 0.9881 - val_loss: 0.9437 - val_acc: 0.7013\n",
            "\n",
            "Epoch 00028: val_loss did not improve from 0.82775\n",
            "Epoch 29/100\n",
            "45/45 [==============================] - 29s 652ms/step - loss: 0.1127 - acc: 0.9882 - val_loss: 0.9284 - val_acc: 0.6918\n",
            "\n",
            "Epoch 00029: val_loss did not improve from 0.82775\n",
            "Epoch 30/100\n",
            "45/45 [==============================] - 29s 651ms/step - loss: 0.0914 - acc: 0.9931 - val_loss: 0.9809 - val_acc: 0.6918\n",
            "\n",
            "Epoch 00030: val_loss did not improve from 0.82775\n",
            "Epoch 31/100\n",
            "45/45 [==============================] - 29s 651ms/step - loss: 0.0890 - acc: 0.9951 - val_loss: 0.8852 - val_acc: 0.7201\n",
            "\n",
            "Epoch 00031: val_loss did not improve from 0.82775\n",
            "Epoch 32/100\n",
            "45/45 [==============================] - 29s 652ms/step - loss: 0.0915 - acc: 0.9924 - val_loss: 0.9327 - val_acc: 0.7075\n",
            "\n",
            "Epoch 00032: val_loss did not improve from 0.82775\n",
            "Epoch 33/100\n",
            "45/45 [==============================] - 29s 652ms/step - loss: 0.0871 - acc: 0.9944 - val_loss: 1.0127 - val_acc: 0.7013\n",
            "\n",
            "Epoch 00033: val_loss did not improve from 0.82775\n",
            "Epoch 34/100\n",
            "45/45 [==============================] - 29s 651ms/step - loss: 0.0802 - acc: 0.9937 - val_loss: 0.9342 - val_acc: 0.7044\n",
            "\n",
            "Epoch 00034: val_loss did not improve from 0.82775\n",
            "Epoch 35/100\n",
            "45/45 [==============================] - 29s 651ms/step - loss: 0.0778 - acc: 0.9958 - val_loss: 0.9215 - val_acc: 0.7031\n",
            "\n",
            "Epoch 00035: val_loss did not improve from 0.82775\n",
            "Epoch 36/100\n",
            "45/45 [==============================] - 29s 652ms/step - loss: 0.0711 - acc: 0.9965 - val_loss: 0.9744 - val_acc: 0.7107\n",
            "\n",
            "Epoch 00036: val_loss did not improve from 0.82775\n",
            "Epoch 37/100\n",
            "45/45 [==============================] - 29s 651ms/step - loss: 0.0716 - acc: 0.9951 - val_loss: 0.9959 - val_acc: 0.6981\n",
            "\n",
            "Epoch 00037: val_loss did not improve from 0.82775\n",
            "Epoch 38/100\n",
            "45/45 [==============================] - 29s 653ms/step - loss: 0.0747 - acc: 0.9937 - val_loss: 0.9563 - val_acc: 0.6981\n",
            "\n",
            "Epoch 00038: val_loss did not improve from 0.82775\n",
            "Epoch 39/100\n",
            "45/45 [==============================] - 29s 650ms/step - loss: 0.0642 - acc: 0.9958 - val_loss: 0.9781 - val_acc: 0.7013\n",
            "\n",
            "Epoch 00039: val_loss did not improve from 0.82775\n",
            "Epoch 40/100\n",
            "45/45 [==============================] - 29s 651ms/step - loss: 0.0597 - acc: 0.9979 - val_loss: 0.8975 - val_acc: 0.7138\n",
            "\n",
            "Epoch 00040: val_loss did not improve from 0.82775\n",
            "Epoch 41/100\n",
            "45/45 [==============================] - 29s 652ms/step - loss: 0.0678 - acc: 0.9951 - val_loss: 0.9657 - val_acc: 0.6950\n",
            "\n",
            "Epoch 00041: val_loss did not improve from 0.82775\n",
            "Epoch 42/100\n",
            "45/45 [==============================] - 29s 651ms/step - loss: 0.0567 - acc: 1.0000 - val_loss: 1.0444 - val_acc: 0.7013\n",
            "\n",
            "Epoch 00042: val_loss did not improve from 0.82775\n",
            "Epoch 43/100\n",
            "45/45 [==============================] - 29s 653ms/step - loss: 0.0556 - acc: 0.9986 - val_loss: 0.8813 - val_acc: 0.7201\n",
            "\n",
            "Epoch 00043: val_loss did not improve from 0.82775\n",
            "Epoch 44/100\n",
            "45/45 [==============================] - 29s 651ms/step - loss: 0.0597 - acc: 0.9958 - val_loss: 1.0134 - val_acc: 0.7075\n",
            "\n",
            "Epoch 00044: val_loss did not improve from 0.82775\n",
            "Epoch 45/100\n",
            "45/45 [==============================] - 29s 652ms/step - loss: 0.0623 - acc: 0.9931 - val_loss: 0.9814 - val_acc: 0.7075\n",
            "\n",
            "Epoch 00045: val_loss did not improve from 0.82775\n",
            "Epoch 46/100\n",
            "45/45 [==============================] - 29s 652ms/step - loss: 0.0544 - acc: 0.9986 - val_loss: 0.9716 - val_acc: 0.7063\n",
            "\n",
            "Epoch 00046: val_loss did not improve from 0.82775\n",
            "Epoch 47/100\n",
            "45/45 [==============================] - 29s 652ms/step - loss: 0.0592 - acc: 0.9965 - val_loss: 0.9816 - val_acc: 0.7264\n",
            "\n",
            "Epoch 00047: val_loss did not improve from 0.82775\n",
            "Epoch 48/100\n",
            "45/45 [==============================] - 29s 650ms/step - loss: 0.0499 - acc: 0.9938 - val_loss: 1.0140 - val_acc: 0.6887\n",
            "\n",
            "Epoch 00048: val_loss did not improve from 0.82775\n",
            "Epoch 49/100\n",
            "45/45 [==============================] - 29s 649ms/step - loss: 0.0436 - acc: 0.9972 - val_loss: 0.8576 - val_acc: 0.7201\n",
            "\n",
            "Epoch 00049: val_loss did not improve from 0.82775\n",
            "Epoch 50/100\n",
            "45/45 [==============================] - 29s 651ms/step - loss: 0.0426 - acc: 0.9993 - val_loss: 1.0520 - val_acc: 0.6950\n",
            "\n",
            "Epoch 00050: val_loss did not improve from 0.82775\n",
            "Epoch 51/100\n",
            "45/45 [==============================] - 29s 651ms/step - loss: 0.0463 - acc: 0.9979 - val_loss: 1.0404 - val_acc: 0.6918\n",
            "\n",
            "Epoch 00051: val_loss did not improve from 0.82775\n",
            "Epoch 52/100\n",
            "45/45 [==============================] - 29s 651ms/step - loss: 0.0391 - acc: 0.9986 - val_loss: 0.9042 - val_acc: 0.7390\n",
            "\n",
            "Epoch 00052: val_loss did not improve from 0.82775\n",
            "Epoch 53/100\n",
            "45/45 [==============================] - 29s 651ms/step - loss: 0.0429 - acc: 0.9993 - val_loss: 1.0344 - val_acc: 0.6730\n",
            "\n",
            "Epoch 00053: val_loss did not improve from 0.82775\n",
            "Epoch 54/100\n",
            "45/45 [==============================] - 29s 650ms/step - loss: 0.0444 - acc: 0.9979 - val_loss: 0.9971 - val_acc: 0.7170\n",
            "\n",
            "Epoch 00054: val_loss did not improve from 0.82775\n",
            "Epoch 55/100\n",
            "45/45 [==============================] - 29s 651ms/step - loss: 0.0403 - acc: 0.9993 - val_loss: 0.9688 - val_acc: 0.7138\n",
            "\n",
            "Epoch 00055: val_loss did not improve from 0.82775\n",
            "Epoch 56/100\n",
            "45/45 [==============================] - 29s 652ms/step - loss: 0.0401 - acc: 0.9986 - val_loss: 0.9888 - val_acc: 0.7044\n",
            "\n",
            "Epoch 00056: val_loss did not improve from 0.82775\n",
            "Epoch 57/100\n",
            "45/45 [==============================] - 29s 650ms/step - loss: 0.0369 - acc: 1.0000 - val_loss: 0.9637 - val_acc: 0.7156\n",
            "\n",
            "Epoch 00057: val_loss did not improve from 0.82775\n",
            "Epoch 58/100\n",
            "45/45 [==============================] - 29s 651ms/step - loss: 0.0377 - acc: 0.9986 - val_loss: 0.9906 - val_acc: 0.6981\n",
            "\n",
            "Epoch 00058: val_loss did not improve from 0.82775\n"
          ],
          "name": "stdout"
        },
        {
          "output_type": "execute_result",
          "data": {
            "text/plain": [
              "<keras.callbacks.History at 0x7f61b1ac6eb8>"
            ]
          },
          "metadata": {
            "tags": []
          },
          "execution_count": 19
        }
      ]
    },
    {
      "cell_type": "markdown",
      "metadata": {
        "id": "KJL0L6Xx6UzV",
        "colab_type": "text"
      },
      "source": [
        "Testing process"
      ]
    },
    {
      "cell_type": "code",
      "metadata": {
        "id": "cCNnUMifFybv",
        "colab_type": "code",
        "outputId": "9ad8455b-6e8a-4175-9f56-0b7890fca0b5",
        "colab": {
          "base_uri": "https://localhost:8080/",
          "height": 34
        }
      },
      "source": [
        "test_generator = ImageDataGenerator(rescale=1. / 255)\n",
        "test_data_generator = test_generator.flow_from_directory(\n",
        "    '/content/drive/My Drive/prediction2/images',\n",
        "    target_size=(dim, dim),\n",
        "    batch_size=batch_size,\n",
        "    shuffle=False)\n",
        "import numpy \n",
        "test_steps_per_epoch = numpy.math.ceil(test_data_generator.samples / test_data_generator.batch_size)\n"
      ],
      "execution_count": 0,
      "outputs": [
        {
          "output_type": "stream",
          "text": [
            "Found 140 images belonging to 7 classes.\n"
          ],
          "name": "stdout"
        }
      ]
    },
    {
      "cell_type": "code",
      "metadata": {
        "id": "3sQPUEHHO3MY",
        "colab_type": "code",
        "colab": {}
      },
      "source": [
        "predictions = model.predict_generator(test_data_generator, steps=test_steps_per_epoch)"
      ],
      "execution_count": 0,
      "outputs": []
    },
    {
      "cell_type": "code",
      "metadata": {
        "id": "55vK6JFWO599",
        "colab_type": "code",
        "outputId": "0d9e9f9e-4e28-417c-9841-377e5ca2fc20",
        "colab": {
          "base_uri": "https://localhost:8080/",
          "height": 34
        }
      },
      "source": [
        "predicted_classes = numpy.argmax(predictions, axis=1)\n",
        "print(len(predicted_classes))"
      ],
      "execution_count": 0,
      "outputs": [
        {
          "output_type": "stream",
          "text": [
            "140\n"
          ],
          "name": "stdout"
        }
      ]
    },
    {
      "cell_type": "code",
      "metadata": {
        "id": "IuQFeiMlPd4b",
        "colab_type": "code",
        "colab": {}
      },
      "source": [
        "true_classes = test_data_generator.classes\n",
        "class_labels = list(test_data_generator.class_indices.keys())   "
      ],
      "execution_count": 0,
      "outputs": []
    },
    {
      "cell_type": "code",
      "metadata": {
        "id": "02cLZxSBPgBI",
        "colab_type": "code",
        "colab": {}
      },
      "source": [
        "labels = (train_generator.class_indices)\n",
        "labels = dict((v,k) for k,v in labels.items())\n",
        "predictions = [labels[k] for k in predicted_classes]"
      ],
      "execution_count": 0,
      "outputs": []
    },
    {
      "cell_type": "code",
      "metadata": {
        "id": "zZEftiihPiE_",
        "colab_type": "code",
        "outputId": "2c8d2804-e34d-46b5-b60e-7014f022510f",
        "colab": {
          "base_uri": "https://localhost:8080/",
          "height": 136
        }
      },
      "source": [
        "predicted_classes"
      ],
      "execution_count": 0,
      "outputs": [
        {
          "output_type": "execute_result",
          "data": {
            "text/plain": [
              "array([0, 0, 0, 0, 4, 0, 2, 0, 0, 0, 0, 0, 0, 0, 0, 2, 0, 0, 0, 0, 1, 1,\n",
              "       1, 1, 3, 1, 1, 1, 1, 1, 1, 1, 1, 1, 1, 1, 1, 1, 1, 1, 5, 2, 2, 2,\n",
              "       2, 2, 5, 2, 2, 2, 2, 2, 2, 2, 1, 2, 2, 2, 3, 5, 3, 3, 3, 2, 3, 2,\n",
              "       3, 3, 3, 2, 3, 3, 2, 4, 3, 3, 3, 3, 3, 3, 4, 4, 1, 0, 4, 4, 4, 4,\n",
              "       4, 4, 0, 4, 4, 0, 2, 4, 1, 4, 4, 4, 5, 5, 5, 5, 5, 5, 5, 2, 5, 5,\n",
              "       2, 5, 5, 5, 5, 5, 5, 5, 5, 5, 6, 6, 6, 6, 6, 6, 6, 0, 6, 6, 6, 6,\n",
              "       6, 6, 6, 6, 6, 0, 6, 6])"
            ]
          },
          "metadata": {
            "tags": []
          },
          "execution_count": 47
        }
      ]
    },
    {
      "cell_type": "code",
      "metadata": {
        "id": "_AeIXNkkPleq",
        "colab_type": "code",
        "outputId": "6405e2e0-3b39-4966-a606-e7baffd0cbce",
        "colab": {
          "base_uri": "https://localhost:8080/",
          "height": 136
        }
      },
      "source": [
        "class_labels"
      ],
      "execution_count": 0,
      "outputs": [
        {
          "output_type": "execute_result",
          "data": {
            "text/plain": [
              "['0 Parade',\n",
              " '1 Handshaking',\n",
              " '2 Demonstration',\n",
              " '3 Riot',\n",
              " '4 Cheering',\n",
              " '5 Shoppers',\n",
              " '6 Soccer']"
            ]
          },
          "metadata": {
            "tags": []
          },
          "execution_count": 48
        }
      ]
    },
    {
      "cell_type": "code",
      "metadata": {
        "id": "Ld0XaronPsnf",
        "colab_type": "code",
        "outputId": "605b5bfe-7290-48c8-cba3-06d0d1114485",
        "colab": {
          "base_uri": "https://localhost:8080/",
          "height": 255
        }
      },
      "source": [
        "import sklearn.metrics as metrics\n",
        "\n",
        "report = metrics.classification_report(true_classes, predicted_classes, target_names=class_labels)\n",
        "print(report)"
      ],
      "execution_count": 0,
      "outputs": [
        {
          "output_type": "stream",
          "text": [
            "                 precision    recall  f1-score   support\n",
            "\n",
            "       0 Parade       0.77      0.85      0.81        20\n",
            "  1 Handshaking       0.86      0.95      0.90        20\n",
            "2 Demonstration       0.62      0.75      0.68        20\n",
            "         3 Riot       0.88      0.75      0.81        20\n",
            "     4 Cheering       0.88      0.70      0.78        20\n",
            "     5 Shoppers       0.86      0.90      0.88        20\n",
            "       6 Soccer       1.00      0.90      0.95        20\n",
            "\n",
            "       accuracy                           0.83       140\n",
            "      macro avg       0.84      0.83      0.83       140\n",
            "   weighted avg       0.84      0.83      0.83       140\n",
            "\n"
          ],
          "name": "stdout"
        }
      ]
    },
    {
      "cell_type": "code",
      "metadata": {
        "id": "xOrxSHwNPvy5",
        "colab_type": "code",
        "outputId": "db569f09-a5a2-4a3d-e699-18b6c6a9f5d2",
        "colab": {
          "base_uri": "https://localhost:8080/",
          "height": 340
        }
      },
      "source": [
        "# display the confusion matrix\n",
        "import seaborn as sns\n",
        "from sklearn.metrics import confusion_matrix\n",
        "import matplotlib.pyplot as plt\n",
        "import pandas as pd\n",
        "\n",
        "print (\"[INFO] confusion matrix\")\n",
        "\n",
        "# get the list of training lables\n",
        "#labels = sorted(list(os.listdir(test_path)))\n",
        "\n",
        "# plot the confusion matrix\n",
        "cm = confusion_matrix(true_classes, predicted_classes)\n",
        "cm_df = pd.DataFrame(cm,\n",
        "                     index = ['parade','handshaking','demo','riot','cheering','shoppers','soccer'], \n",
        "                     columns = ['parade','handshaking','demo','riot','cheering','shoppers','soccer'])\n",
        "sns.heatmap(cm_df,\n",
        "            annot=True,\n",
        "            cmap=\"Set3\")\n",
        "\n",
        "plt.show()"
      ],
      "execution_count": 0,
      "outputs": [
        {
          "output_type": "stream",
          "text": [
            "[INFO] confusion matrix\n"
          ],
          "name": "stdout"
        },
        {
          "output_type": "display_data",
          "data": {
            "image/png": "[encoded data removed]",
            "text/plain": [
              "<Figure size 432x288 with 2 Axes>"
            ]
          },
          "metadata": {
            "tags": []
          }
        }
      ]
    },
    {
      "cell_type": "code",
      "metadata": {
        "id": "l1Gg5_tHP0SL",
        "colab_type": "code",
        "colab": {}
      },
      "source": [
        ""
      ],
      "execution_count": 0,
      "outputs": []
    }
  ]
}