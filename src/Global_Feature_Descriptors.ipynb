{
 "cells": [
  {
   "cell_type": "markdown",
   "metadata": {},
   "source": [
    "# Event Recognition using Global Feature Descriptors and ML models"
   ]
  },
  {
   "cell_type": "code",
   "execution_count": 56,
   "metadata": {},
   "outputs": [],
   "source": [
    "# organize imports\n",
    "from sklearn.preprocessing import LabelEncoder\n",
    "from sklearn.preprocessing import MinMaxScaler\n",
    "import numpy as np\n",
    "import cv2\n",
    "import os\n",
    "\n",
    "# fixed-sizes for image\n",
    "fixed_size = tuple((500, 500))\n",
    "\n",
    "# path to training data\n",
    "train_path = 'C:/Users/Nivedha/Documents/widerdata/images'\n",
    "\n",
    "bins=8\n",
    "\n",
    "# train_test_split size\n",
    "test_size = 0.10\n",
    "\n",
    "# seed for reproducing same results\n",
    "seed = 9"
   ]
  },
  {
   "cell_type": "code",
   "execution_count": 57,
   "metadata": {},
   "outputs": [],
   "source": [
    "def fd_hu_moments(image):\n",
    "    image = cv2.cvtColor(image, cv2.COLOR_BGR2GRAY)\n",
    "    feature = cv2.HuMoments(cv2.moments(image)).flatten()\n",
    "    return feature"
   ]
  },
  {
   "cell_type": "code",
   "execution_count": 58,
   "metadata": {},
   "outputs": [],
   "source": [
    "def fd_histogram(image, mask=None):\n",
    "    # convert the image to HSV color-space\n",
    "    image = cv2.cvtColor(image, cv2.COLOR_BGR2HSV)\n",
    "    # compute the color histogram\n",
    "    hist  = cv2.calcHist([image], [0, 1, 2], None, [bins, bins, bins], [0, 256, 0, 256, 0, 256])\n",
    "    # normalize the histogram\n",
    "    cv2.normalize(hist, hist)\n",
    "    # return the histogram\n",
    "    return hist.flatten()"
   ]
  },
  {
   "cell_type": "code",
   "execution_count": 59,
   "metadata": {},
   "outputs": [
    {
     "name": "stdout",
     "output_type": "stream",
     "text": [
      "['0 Parade', '1 Handshaking', '2 Demonstration', '3 Riot', '4 Cheering', '5 Shoppers', '6 Soccer']\n"
     ]
    }
   ],
   "source": [
    "# get the training labels\n",
    "train_labels = os.listdir(train_path)\n",
    "\n",
    "# sort the training labels\n",
    "train_labels.sort()\n",
    "print(train_labels)"
   ]
  },
  {
   "cell_type": "code",
   "execution_count": 60,
   "metadata": {},
   "outputs": [],
   "source": [
    "global_features = []\n",
    "labels = []\n",
    "\n",
    "i, j = 0, 0\n",
    "k = 0"
   ]
  },
  {
   "cell_type": "code",
   "execution_count": 61,
   "metadata": {},
   "outputs": [],
   "source": [
    "# num of images per class\n",
    "images_per_class = 210"
   ]
  },
  {
   "cell_type": "code",
   "execution_count": 62,
   "metadata": {},
   "outputs": [
    {
     "name": "stdout",
     "output_type": "stream",
     "text": [
      "C:/Users/Nivedha/Documents/widerdata/images/0 Parade\n",
      "[STATUS] processed folder: 0 Parade\n",
      "C:/Users/Nivedha/Documents/widerdata/images/1 Handshaking\n",
      "[STATUS] processed folder: 1 Handshaking\n",
      "C:/Users/Nivedha/Documents/widerdata/images/2 Demonstration\n",
      "[STATUS] processed folder: 2 Demonstration\n",
      "C:/Users/Nivedha/Documents/widerdata/images/3 Riot\n",
      "[STATUS] processed folder: 3 Riot\n",
      "C:/Users/Nivedha/Documents/widerdata/images/4 Cheering\n",
      "[STATUS] processed folder: 4 Cheering\n",
      "C:/Users/Nivedha/Documents/widerdata/images/5 Shoppers\n",
      "[STATUS] processed folder: 5 Shoppers\n",
      "C:/Users/Nivedha/Documents/widerdata/images/6 Soccer\n",
      "[STATUS] processed folder: 6 Soccer\n",
      "[STATUS] completed Global Feature Extraction...\n"
     ]
    }
   ],
   "source": [
    "# loop over the training data sub-folders\n",
    "for training_name in train_labels:\n",
    "    # join the training data path and each species training folder\n",
    "    dir = os.path.join(train_path + '/'+training_name)\n",
    "    print(dir)\n",
    "\n",
    "    # get the current training label\n",
    "    current_label = training_name\n",
    "    #print(current_label)\n",
    "\n",
    "    k = 1\n",
    "    # loop over the images in each sub-folder\n",
    "    for x in os.listdir(dir):\n",
    "        if x.endswith(\".jpg\"):\n",
    "            file=x\n",
    "            #print(file)\n",
    "        \n",
    "        # read the image and resize it to a fixed-size\n",
    "        image = cv2.imread(dir + '/' + file)\n",
    "        #print(file)\n",
    "        #print(image)\n",
    "        image = cv2.resize(image, fixed_size)\n",
    "\n",
    "        ####################################\n",
    "        # Global Feature extraction\n",
    "        ####################################\n",
    "        fv_hu_moments = fd_hu_moments(image)\n",
    "        fv_histogram  = fd_histogram(image)\n",
    "\n",
    "        ###################################\n",
    "        # Concatenate global features\n",
    "        ###################################\n",
    "        global_feature = np.hstack([fv_histogram,fv_hu_moments])\n",
    "\n",
    "        # update the list of labels and feature vectors\n",
    "        labels.append(current_label)\n",
    "        global_features.append(global_feature)\n",
    "\n",
    "        i += 1\n",
    "        k += 1\n",
    "    print (\"[STATUS] processed folder: {}\".format(current_label))\n",
    "    j += 1\n",
    "\n",
    "print (\"[STATUS] completed Global Feature Extraction...\")"
   ]
  },
  {
   "cell_type": "code",
   "execution_count": 63,
   "metadata": {},
   "outputs": [
    {
     "name": "stdout",
     "output_type": "stream",
     "text": [
      "[STATUS] feature vector size (1470, 519)\n",
      "[STATUS] training Labels (1470,)\n",
      "Wall time: 269 ms\n"
     ]
    }
   ],
   "source": [
    "%%time\n",
    "# get the overall feature vector size\n",
    "print (\"[STATUS] feature vector size {}\".format(np.array(global_features).shape))\n",
    "\n",
    "# get the overall training label size\n",
    "print (\"[STATUS] training Labels {}\".format(np.array(labels).shape))"
   ]
  },
  {
   "cell_type": "code",
   "execution_count": 64,
   "metadata": {},
   "outputs": [
    {
     "name": "stdout",
     "output_type": "stream",
     "text": [
      "['0 Parade' '1 Handshaking' '2 Demonstration' '3 Riot' '4 Cheering'\n",
      " '5 Shoppers' '6 Soccer']\n",
      "[0 0 0 ... 6 6 6]\n",
      "[STATUS] training labels encoded...\n"
     ]
    }
   ],
   "source": [
    "targetNames = np.unique(labels)\n",
    "print(targetNames)\n",
    "le = LabelEncoder()\n",
    "target = le.fit_transform(labels)\n",
    "print(target)\n",
    "print (\"[STATUS] training labels encoded...\")"
   ]
  },
  {
   "cell_type": "code",
   "execution_count": 65,
   "metadata": {},
   "outputs": [
    {
     "name": "stdout",
     "output_type": "stream",
     "text": [
      "MinMaxScaler(copy=True, feature_range=(0, 1))\n",
      "[[0.02531944 0.04009829 0.05584592 ... 0.18223868 0.55593397 0.87204377]\n",
      " [0.00101001 0.03003087 0.01629862 ... 0.18224302 0.55601445 0.8720594 ]\n",
      " [0.01051208 0.03187769 0.05482447 ... 0.18223795 0.5562292  0.87204049]\n",
      " ...\n",
      " [0.00979233 0.03270757 0.02883201 ... 0.18223649 0.55583972 0.87203984]\n",
      " [0.0213524  0.02517336 0.0341021  ... 0.1822388  0.55588308 0.87204299]\n",
      " [0.00825527 0.01618598 0.02630441 ... 0.18223804 0.55590935 0.87204466]]\n",
      "[STATUS] feature vector normalized...\n"
     ]
    }
   ],
   "source": [
    "scaler = MinMaxScaler(feature_range=(0, 1))\n",
    "print(scaler)\n",
    "rescaled_features = scaler.fit_transform(global_features)\n",
    "print(rescaled_features)\n",
    "print (\"[STATUS] feature vector normalized...\")"
   ]
  },
  {
   "cell_type": "code",
   "execution_count": 66,
   "metadata": {},
   "outputs": [
    {
     "name": "stdout",
     "output_type": "stream",
     "text": [
      "[STATUS] target labels: [0 0 0 ... 6 6 6]\n",
      "[STATUS] target labels shape: (1470,)\n"
     ]
    }
   ],
   "source": [
    "print (\"[STATUS] target labels: {}\".format(target))\n",
    "print (\"[STATUS] target labels shape: {}\".format(target.shape))"
   ]
  },
  {
   "cell_type": "code",
   "execution_count": 67,
   "metadata": {},
   "outputs": [],
   "source": [
    "import h5py"
   ]
  },
  {
   "cell_type": "code",
   "execution_count": 68,
   "metadata": {},
   "outputs": [
    {
     "data": {
      "text/plain": [
       "<HDF5 dataset \"dataset_319\": shape (1470, 519), type \"<f8\">"
      ]
     },
     "execution_count": 68,
     "metadata": {},
     "output_type": "execute_result"
    }
   ],
   "source": [
    "h5f_data = h5py.File('C:/Users/Nivedha/Documents/Memorability/global_features.h5', 'w')\n",
    "h5f_data.create_dataset('dataset_319', data=np.array(rescaled_features))"
   ]
  },
  {
   "cell_type": "code",
   "execution_count": 69,
   "metadata": {},
   "outputs": [
    {
     "data": {
      "text/plain": [
       "<HDF5 dataset \"dataset_394\": shape (1470,), type \"<i8\">"
      ]
     },
     "execution_count": 69,
     "metadata": {},
     "output_type": "execute_result"
    }
   ],
   "source": [
    "h5f_label = h5py.File('C:/Users/Nivedha/Documents/Memorability/labels.h5', 'w')\n",
    "h5f_label.create_dataset('dataset_394', data=np.array(target))"
   ]
  },
  {
   "cell_type": "code",
   "execution_count": 70,
   "metadata": {},
   "outputs": [
    {
     "name": "stdout",
     "output_type": "stream",
     "text": [
      "[STATUS] end of training..\n"
     ]
    }
   ],
   "source": [
    "h5f_data.close()\n",
    "h5f_label.close()\n",
    "\n",
    "print(\"[STATUS] end of training..\")"
   ]
  },
  {
   "cell_type": "code",
   "execution_count": 71,
   "metadata": {},
   "outputs": [],
   "source": [
    "import h5py\n",
    "import numpy as np\n",
    "import os\n",
    "import glob\n",
    "import cv2\n",
    "from matplotlib import pyplot\n",
    "from sklearn.model_selection import train_test_split, cross_val_score\n",
    "from sklearn.model_selection import KFold, StratifiedKFold\n",
    "from sklearn.metrics import confusion_matrix, accuracy_score, classification_report\n",
    "from sklearn.linear_model import LogisticRegression\n",
    "from sklearn.tree import DecisionTreeClassifier\n",
    "from sklearn.ensemble import RandomForestClassifier\n",
    "from sklearn.neighbors import KNeighborsClassifier\n",
    "from sklearn.discriminant_analysis import LinearDiscriminantAnalysis\n",
    "from sklearn.naive_bayes import GaussianNB\n",
    "from sklearn.svm import SVC\n",
    "from sklearn.externals import joblib"
   ]
  },
  {
   "cell_type": "code",
   "execution_count": 72,
   "metadata": {},
   "outputs": [
    {
     "name": "stdout",
     "output_type": "stream",
     "text": [
      "[STATUS] features shape: (1470, 519)\n",
      "[STATUS] labels shape: (1470,)\n",
      "[STATUS] training started...\n"
     ]
    }
   ],
   "source": [
    "num_trees = 100\n",
    "models = []\n",
    "models.append(('LR', LogisticRegression(random_state=9)))\n",
    "models.append(('LDA', LinearDiscriminantAnalysis()))\n",
    "models.append(('KNN', KNeighborsClassifier()))\n",
    "models.append(('CART', DecisionTreeClassifier(random_state=9)))\n",
    "models.append(('RF', RandomForestClassifier(n_estimators=num_trees, random_state=9)))\n",
    "models.append(('NB', GaussianNB()))\n",
    "models.append(('SVM', SVC(random_state=9)))\n",
    "results = []\n",
    "names = []\n",
    "scoring = \"accuracy\"\n",
    "\n",
    "# import the feature vector and trained labels\n",
    "h5f_data = h5py.File('C:/Users/Nivedha/Documents/Memorability/global_features.h5', 'r')\n",
    "h5f_label = h5py.File('C:/Users/Nivedha/Documents/Memorability/labels.h5', 'r')\n",
    "\n",
    "global_features_string = h5f_data['dataset_319']\n",
    "global_labels_string = h5f_label['dataset_394']\n",
    "\n",
    "global_features = np.array(global_features_string)\n",
    "global_labels = np.array(global_labels_string)\n",
    "\n",
    "h5f_data.close()\n",
    "h5f_label.close()\n",
    "\n",
    "# verify the shape of the feature vector and labels\n",
    "print (\"[STATUS] features shape: {}\".format(global_features.shape))\n",
    "print (\"[STATUS] labels shape: {}\".format(global_labels.shape))\n",
    "\n",
    "print (\"[STATUS] training started...\")"
   ]
  },
  {
   "cell_type": "code",
   "execution_count": 73,
   "metadata": {},
   "outputs": [
    {
     "name": "stdout",
     "output_type": "stream",
     "text": [
      "[STATUS] splitted train and test data...\n",
      "Train data  : (1323, 519)\n",
      "Test data   : (147, 519)\n",
      "Train labels: (1323,)\n",
      "Test labels : (147,)\n"
     ]
    }
   ],
   "source": [
    "# split the training and testing data\n",
    "(trainDataGlobal, testDataGlobal, trainLabelsGlobal, testLabelsGlobal) = train_test_split(np.array(global_features),\n",
    "                                                                                          np.array(global_labels),\n",
    "                                                                                          test_size=test_size,\n",
    "                                                                                          random_state=seed)\n",
    "\n",
    "print (\"[STATUS] splitted train and test data...\")\n",
    "print (\"Train data  : {}\".format(trainDataGlobal.shape))\n",
    "print (\"Test data   : {}\".format(testDataGlobal.shape))\n",
    "print (\"Train labels: {}\".format(trainLabelsGlobal.shape))\n",
    "print (\"Test labels : {}\".format(testLabelsGlobal.shape))"
   ]
  },
  {
   "cell_type": "code",
   "execution_count": 74,
   "metadata": {},
   "outputs": [
    {
     "name": "stdout",
     "output_type": "stream",
     "text": [
      "LR: 0.392276 (0.032274)\n",
      "LDA: 0.307576 (0.048943)\n",
      "KNN: 0.310674 (0.016311)\n",
      "CART: 0.288813 (0.053539)\n",
      "RF: 0.419549 (0.032494)\n",
      "NB: 0.269133 (0.045191)\n",
      "SVM: 0.125467 (0.021683)\n"
     ]
    },
    {
     "data": {
      "image/png": "[encoded data removed]",
      "text/plain": [
       "<Figure size 432x288 with 1 Axes>"
      ]
     },
     "metadata": {},
     "output_type": "display_data"
    },
    {
     "name": "stdout",
     "output_type": "stream",
     "text": [
      "Wall time: 45.7 s\n"
     ]
    }
   ],
   "source": [
    "%%time\n",
    "# filter all the warnings\n",
    "import warnings\n",
    "warnings.filterwarnings('ignore')\n",
    "\n",
    "# 10-fold cross validation\n",
    "for name, model in models:\n",
    "    kfold = KFold(n_splits=10, random_state=7)\n",
    "    cv_results = cross_val_score(model, trainDataGlobal, trainLabelsGlobal, cv=kfold, scoring=scoring)\n",
    "    results.append(cv_results)\n",
    "    names.append(name)\n",
    "    msg = \"%s: %f (%f)\" % (name, cv_results.mean(), cv_results.std())\n",
    "    print(msg)\n",
    "\n",
    "# boxplot algorithm comparison\n",
    "fig = pyplot.figure()\n",
    "fig.suptitle('Machine Learning algorithm comparison')\n",
    "ax = fig.add_subplot(111)\n",
    "pyplot.boxplot(results)\n",
    "ax.set_xticklabels(names)\n",
    "pyplot.show()"
   ]
  },
  {
   "cell_type": "markdown",
   "metadata": {},
   "source": [
    "# Testing Process"
   ]
  },
  {
   "cell_type": "code",
   "execution_count": 75,
   "metadata": {},
   "outputs": [],
   "source": [
    "tr_path = 'C:/Users/Nivedha/Documents/prediction3/images'"
   ]
  },
  {
   "cell_type": "code",
   "execution_count": 76,
   "metadata": {},
   "outputs": [
    {
     "name": "stdout",
     "output_type": "stream",
     "text": [
      "['0 Parade', '1 Handshaking', '2 Demonstration', '3 Riot', '4 Cheering', '5 Shoppers', '6 Soccer']\n"
     ]
    }
   ],
   "source": [
    "# get the training labels\n",
    "tr_labels = os.listdir(tr_path)\n",
    "\n",
    "# sort the training labels\n",
    "tr_labels.sort()\n",
    "print(tr_labels)"
   ]
  },
  {
   "cell_type": "code",
   "execution_count": 77,
   "metadata": {},
   "outputs": [
    {
     "name": "stdout",
     "output_type": "stream",
     "text": [
      "['0 Parade', '1 Handshaking', '2 Demonstration', '3 Riot', '4 Cheering', '5 Shoppers', '6 Soccer']\n"
     ]
    }
   ],
   "source": [
    "# get the training labels\n",
    "tr_labels = os.listdir(tr_path)\n",
    "\n",
    "# sort the training labels\n",
    "tr_labels.sort()\n",
    "print(tr_labels)"
   ]
  },
  {
   "cell_type": "code",
   "execution_count": 78,
   "metadata": {},
   "outputs": [],
   "source": [
    "test_features = []\n",
    "test_labels = []"
   ]
  },
  {
   "cell_type": "code",
   "execution_count": 79,
   "metadata": {},
   "outputs": [
    {
     "name": "stdout",
     "output_type": "stream",
     "text": [
      "C:/Users/Nivedha/Documents/prediction3/images/0 Parade\n",
      "[STATUS] processed folder: 0 Parade\n",
      "C:/Users/Nivedha/Documents/prediction3/images/1 Handshaking\n",
      "[STATUS] processed folder: 1 Handshaking\n",
      "C:/Users/Nivedha/Documents/prediction3/images/2 Demonstration\n",
      "[STATUS] processed folder: 2 Demonstration\n",
      "C:/Users/Nivedha/Documents/prediction3/images/3 Riot\n",
      "[STATUS] processed folder: 3 Riot\n",
      "C:/Users/Nivedha/Documents/prediction3/images/4 Cheering\n",
      "[STATUS] processed folder: 4 Cheering\n",
      "C:/Users/Nivedha/Documents/prediction3/images/5 Shoppers\n",
      "[STATUS] processed folder: 5 Shoppers\n",
      "C:/Users/Nivedha/Documents/prediction3/images/6 Soccer\n",
      "[STATUS] processed folder: 6 Soccer\n",
      "[STATUS] completed Global Feature Extraction...\n"
     ]
    }
   ],
   "source": [
    "# loop over the training data sub-folders\n",
    "for tr_name in tr_labels:\n",
    "    # join the training data path and each species training folder\n",
    "    dir = os.path.join(tr_path + '/'+tr_name)\n",
    "    print(dir)\n",
    "\n",
    "    # get the current training label\n",
    "    curr_label = tr_name\n",
    "    #print(curr_label)\n",
    "\n",
    "    k = 1\n",
    "    # loop over the images in each sub-folder\n",
    "    for x in os.listdir(dir):\n",
    "        if x.endswith(\".jpg\"):\n",
    "            file=x\n",
    "            #print(file)\n",
    "        \n",
    "        # read the image and resize it to a fixed-size\n",
    "        image = cv2.imread(dir + '/' + file)\n",
    "        #print(file)\n",
    "        #print(image)\n",
    "        image = cv2.resize(image, fixed_size)\n",
    "\n",
    "        ####################################\n",
    "        # Global Feature extraction\n",
    "        ####################################\n",
    "        fv_hu_moments = fd_hu_moments(image)\n",
    "        fv_histogram  = fd_histogram(image)\n",
    "\n",
    "        ###################################\n",
    "        # Concatenate global features\n",
    "        ###################################\n",
    "        glo = np.hstack([fv_histogram,fv_hu_moments])\n",
    "\n",
    "        # update the list of labels and feature vectors\n",
    "        test_labels.append(curr_label)\n",
    "        test_features.append(glo)\n",
    "\n",
    "        i += 1\n",
    "        k += 1\n",
    "    print (\"[STATUS] processed folder: {}\".format(curr_label))\n",
    "    j += 1\n",
    "\n",
    "print (\"[STATUS] completed Global Feature Extraction...\")"
   ]
  },
  {
   "cell_type": "code",
   "execution_count": 80,
   "metadata": {},
   "outputs": [
    {
     "name": "stdout",
     "output_type": "stream",
     "text": [
      "[STATUS] feature vector size (140, 519)\n",
      "[STATUS] training Labels (140,)\n",
      "Wall time: 2 ms\n"
     ]
    }
   ],
   "source": [
    "%%time\n",
    "# get the overall feature vector size\n",
    "print (\"[STATUS] feature vector size {}\".format(np.array(test_features).shape))\n",
    "\n",
    "# get the overall training label size\n",
    "print (\"[STATUS] training Labels {}\".format(np.array(test_labels).shape))"
   ]
  },
  {
   "cell_type": "code",
   "execution_count": 81,
   "metadata": {},
   "outputs": [
    {
     "name": "stdout",
     "output_type": "stream",
     "text": [
      "['0 Parade' '1 Handshaking' '2 Demonstration' '3 Riot' '4 Cheering'\n",
      " '5 Shoppers' '6 Soccer']\n",
      "[0 0 0 0 0 0 0 0 0 0 0 0 0 0 0 0 0 0 0 0 1 1 1 1 1 1 1 1 1 1 1 1 1 1 1 1 1\n",
      " 1 1 1 2 2 2 2 2 2 2 2 2 2 2 2 2 2 2 2 2 2 2 2 3 3 3 3 3 3 3 3 3 3 3 3 3 3\n",
      " 3 3 3 3 3 3 4 4 4 4 4 4 4 4 4 4 4 4 4 4 4 4 4 4 4 4 5 5 5 5 5 5 5 5 5 5 5\n",
      " 5 5 5 5 5 5 5 5 5 6 6 6 6 6 6 6 6 6 6 6 6 6 6 6 6 6 6 6 6]\n",
      "[STATUS] training labels encoded...\n"
     ]
    }
   ],
   "source": [
    "testNames = np.unique(test_labels)\n",
    "print(testNames)\n",
    "les = LabelEncoder()\n",
    "test = les.fit_transform(test_labels)\n",
    "print(test)\n",
    "print (\"[STATUS] training labels encoded...\")"
   ]
  },
  {
   "cell_type": "code",
   "execution_count": 82,
   "metadata": {},
   "outputs": [
    {
     "name": "stdout",
     "output_type": "stream",
     "text": [
      "MinMaxScaler(copy=True, feature_range=(0, 1))\n",
      "[[2.14107368e-03 2.16558973e-02 3.28608942e-02 ... 1.82238380e-01\n",
      "  5.55857776e-01 8.72043823e-01]\n",
      " [1.04321057e-02 1.35949373e-02 2.41714159e-02 ... 1.82243746e-01\n",
      "  5.55795537e-01 8.72034804e-01]\n",
      " [1.58507409e-02 5.36246548e-01 7.69445994e-02 ... 1.82238656e-01\n",
      "  5.55893249e-01 8.72043111e-01]\n",
      " ...\n",
      " [9.47117910e-03 2.26273648e-02 2.67541652e-02 ... 1.82263758e-01\n",
      "  5.55305877e-01 8.72033731e-01]\n",
      " [9.81544449e-01 1.32029292e-03 6.48239471e-05 ... 1.97232680e-01\n",
      "  7.00599597e-01 8.69509962e-01]\n",
      " [1.45849043e-03 3.81047078e-03 1.65246885e-03 ... 1.82238723e-01\n",
      "  5.55880591e-01 8.72043268e-01]]\n",
      "[STATUS] feature vector normalized...\n"
     ]
    }
   ],
   "source": [
    "scaler1 = MinMaxScaler(feature_range=(0, 1))\n",
    "print(scaler1)\n",
    "rescaledtest_features = scaler.transform(test_features)\n",
    "print(rescaledtest_features)\n",
    "print (\"[STATUS] feature vector normalized...\")"
   ]
  },
  {
   "cell_type": "code",
   "execution_count": 83,
   "metadata": {},
   "outputs": [
    {
     "data": {
      "text/plain": [
       "<HDF5 dataset \"dataset_030\": shape (140, 519), type \"<f8\">"
      ]
     },
     "execution_count": 83,
     "metadata": {},
     "output_type": "execute_result"
    }
   ],
   "source": [
    "h5f_datatest = h5py.File('C:/Users/Nivedha/Documents/Memorability/test_features.h5', 'w')\n",
    "h5f_datatest.create_dataset('dataset_030', data=np.array(rescaledtest_features))"
   ]
  },
  {
   "cell_type": "code",
   "execution_count": 84,
   "metadata": {},
   "outputs": [
    {
     "data": {
      "text/plain": [
       "<HDF5 dataset \"dataset_919\": shape (140,), type \"<i8\">"
      ]
     },
     "execution_count": 84,
     "metadata": {},
     "output_type": "execute_result"
    }
   ],
   "source": [
    "h5f_labeltest = h5py.File('C:/Users/Nivedha/Documents/Memorability/test_labels.h5', 'w')\n",
    "h5f_labeltest.create_dataset('dataset_919', data=np.array(test))"
   ]
  },
  {
   "cell_type": "code",
   "execution_count": 85,
   "metadata": {},
   "outputs": [
    {
     "name": "stdout",
     "output_type": "stream",
     "text": [
      "[STATUS] end of training..\n"
     ]
    }
   ],
   "source": [
    "h5f_datatest.close()\n",
    "h5f_labeltest.close()\n",
    "\n",
    "print(\"[STATUS] end of training..\")"
   ]
  },
  {
   "cell_type": "code",
   "execution_count": 86,
   "metadata": {},
   "outputs": [
    {
     "name": "stdout",
     "output_type": "stream",
     "text": [
      "[STATUS] features shape: (140, 519)\n",
      "[STATUS] labels shape: (140,)\n"
     ]
    }
   ],
   "source": [
    "h5f_datatest = h5py.File('C:/Users/Nivedha/Documents/Memorability/test_features.h5', 'r')\n",
    "h5f_labeltest = h5py.File('C:/Users/Nivedha/Documents/Memorability/test_labels.h5', 'r')\n",
    "\n",
    "test_global_features_string = h5f_datatest['dataset_030']\n",
    "test_global_labels_string = h5f_labeltest['dataset_919']\n",
    "\n",
    "test_features = np.array(test_global_features_string)\n",
    "test_global_labels = np.array(test_global_labels_string)\n",
    "\n",
    "h5f_datatest.close()\n",
    "h5f_labeltest.close()\n",
    "\n",
    "# verify the shape of the feature vector and labels\n",
    "print (\"[STATUS] features shape: {}\".format(test_features.shape))\n",
    "print (\"[STATUS] labels shape: {}\".format(test_global_labels.shape))"
   ]
  },
  {
   "cell_type": "code",
   "execution_count": 88,
   "metadata": {},
   "outputs": [],
   "source": [
    "test_data = np.array(test_features)\n",
    "test_labels = np.array(test_global_labels)"
   ]
  },
  {
   "cell_type": "code",
   "execution_count": 89,
   "metadata": {},
   "outputs": [
    {
     "name": "stdout",
     "output_type": "stream",
     "text": [
      "Accuracy (Holdout Set): 0.4 \n",
      "\n",
      "Accuracy (Holdout Set): 0.30714285714285716 \n",
      "\n",
      "Accuracy (Holdout Set): 0.29285714285714287 \n",
      "\n",
      "Accuracy (Holdout Set): 0.29285714285714287 \n",
      "\n",
      "Accuracy (Holdout Set): 0.5214285714285715 \n",
      "\n",
      "Accuracy (Holdout Set): 0.2857142857142857 \n",
      "\n",
      "Accuracy (Holdout Set): 0.14285714285714285 \n",
      "\n"
     ]
    }
   ],
   "source": [
    "for name, model in models:\n",
    "    model.fit(trainDataGlobal, trainLabelsGlobal)\n",
    "\n",
    "    ypred = model.predict(test_data)\n",
    "\n",
    "    #print(\"\\nLinear SVC Accuracy (Ten-Fold CV):\", cross_val_score(model, features, labels, cv=10).mean(), \"\\n\")\n",
    "\n",
    "    print(\"Accuracy (Holdout Set):\", accuracy_score(test_labels, ypred), \"\\n\")"
   ]
  },
  {
   "cell_type": "code",
   "execution_count": 90,
   "metadata": {},
   "outputs": [],
   "source": [
    "model1= RandomForestClassifier(n_estimators=num_trees, random_state=9)\n",
    "model1.fit(trainDataGlobal, trainLabelsGlobal)\n",
    "ypred1 = model1.predict(test_data)"
   ]
  },
  {
   "cell_type": "code",
   "execution_count": 91,
   "metadata": {},
   "outputs": [
    {
     "name": "stdout",
     "output_type": "stream",
     "text": [
      "[0 6 5 5 0 0 5 0 2 1 0 2 2 2 0 2 5 5 0 2 1 1 3 1 6 1 1 1 1 1 4 4 1 1 1 1 1\n",
      " 2 3 1 2 2 5 2 2 2 3 2 3 2 5 0 2 3 2 5 1 2 1 1 3 3 1 3 3 5 0 1 0 4 3 3 2 3\n",
      " 3 3 3 2 1 3 4 6 3 6 6 6 6 4 3 5 0 3 4 5 2 4 1 4 6 5 3 4 5 0 5 4 5 2 2 4 2\n",
      " 0 3 2 5 5 3 5 5 1 6 6 6 6 6 6 0 6 6 6 6 6 6 6 6 6 6 6 6 6]\n"
     ]
    }
   ],
   "source": [
    "print(ypred1)"
   ]
  },
  {
   "cell_type": "code",
   "execution_count": 92,
   "metadata": {},
   "outputs": [
    {
     "name": "stdout",
     "output_type": "stream",
     "text": [
      "             precision    recall  f1-score   support\n",
      "\n",
      "          0       0.50      0.35      0.41        20\n",
      "          1       0.61      0.70      0.65        20\n",
      "          2       0.42      0.50      0.45        20\n",
      "          3       0.50      0.55      0.52        20\n",
      "          4       0.45      0.25      0.32        20\n",
      "          5       0.37      0.35      0.36        20\n",
      "          6       0.70      0.95      0.81        20\n",
      "\n",
      "avg / total       0.51      0.52      0.50       140\n",
      "\n"
     ]
    }
   ],
   "source": [
    "print(classification_report(test_labels, ypred1))"
   ]
  },
  {
   "cell_type": "code",
   "execution_count": 93,
   "metadata": {},
   "outputs": [
    {
     "name": "stdout",
     "output_type": "stream",
     "text": [
      "[INFO] confusion matrix\n"
     ]
    },
    {
     "data": {
      "image/png": "[encoded data removed]",
      "text/plain": [
       "<Figure size 432x288 with 2 Axes>"
      ]
     },
     "metadata": {},
     "output_type": "display_data"
    }
   ],
   "source": [
    "# display the confusion matrix\n",
    "import seaborn as sns\n",
    "import matplotlib.pyplot as plt\n",
    "import pandas as pd\n",
    "print (\"[INFO] confusion matrix\")\n",
    "\n",
    "# get the list of training lables\n",
    "labels = sorted(list(os.listdir(tr_path)))\n",
    "\n",
    "# plot the confusion matrix\n",
    "cm = confusion_matrix(test_labels, ypred1)\n",
    "cm_df = pd.DataFrame(cm,\n",
    "                     index = ['parade','handshaking','demo','riot','cheering','shoppers','soccer'], \n",
    "                     columns = ['parade','handshaking','demo','riot','cheering','shoppers','soccer'])\n",
    "sns.heatmap(cm_df,\n",
    "            annot=True,\n",
    "            cmap=\"Set3\")\n",
    "\n",
    "plt.show()"
   ]
  },
  {
   "cell_type": "code",
   "execution_count": null,
   "metadata": {},
   "outputs": [],
   "source": []
  }
 ],
 "metadata": {
  "kernelspec": {
   "display_name": "Python 3",
   "language": "python",
   "name": "python3"
  },
  "language_info": {
   "codemirror_mode": {
    "name": "ipython",
    "version": 3
   },
   "file_extension": ".py",
   "mimetype": "text/x-python",
   "name": "python",
   "nbconvert_exporter": "python",
   "pygments_lexer": "ipython3",
   "version": "3.6.5"
  }
 },
 "nbformat": 4,
 "nbformat_minor": 2
}
